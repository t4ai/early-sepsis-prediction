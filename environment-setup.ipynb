{
 "cells": [
  {
   "cell_type": "markdown",
   "metadata": {},
   "source": [
    "### Install and Import Dependent Libraries"
   ]
  },
  {
   "cell_type": "code",
   "execution_count": 1,
   "metadata": {},
   "outputs": [],
   "source": [
    "!pip install awswrangler --quiet\n",
    "!pip install pyathena --quiet\n",
    "!pip install seaborn --quiet\n",
    "!pip install tensorflow --quiet\n",
    "!pip install gdown --quiet\n",
    "!pip install imbalanced-learn --quiet"
   ]
  },
  {
   "cell_type": "code",
   "execution_count": null,
   "metadata": {},
   "outputs": [],
   "source": [
    "# Import libraries\n",
    "import boto3\n",
    "import sagemaker\n",
    "import pandas as pd\n",
    "import numpy as np\n",
    "import os\n",
    "import matplotlib.pyplot as plt\n",
    "import seaborn as sns\n",
    "import awswrangler as wr\n",
    "from pyathena import connect\n",
    "from sagemaker.feature_store.feature_group import FeatureGroup\n",
    "from sagemaker.session import Session\n",
    "import joblib\n",
    "import json\n",
    "from time import gmtime, strftime\n",
    "import datetime\n",
    "import random"
   ]
  },
  {
   "cell_type": "markdown",
   "metadata": {},
   "source": [
    "### Initialize Common Variables"
   ]
  },
  {
   "cell_type": "code",
   "execution_count": null,
   "metadata": {},
   "outputs": [],
   "source": [
    "# initialize Sagemaker session\n",
    "sess = sagemaker.Session()\n",
    "bucket = sess.default_bucket()\n",
    "role = sagemaker.get_execution_role()\n",
    "region = boto3.Session().region_name\n",
    "account_id = boto3.client(\"sts\").get_caller_identity().get(\"Account\")\n",
    "\n",
    "sm = boto3.Session().client(service_name=\"sagemaker\", region_name=region)\n",
    "s3_client = boto3.client(\"s3\", region_name=region)\n",
    "\n",
    "boto_session = boto3.Session(region_name=region)\n",
    "featurestore_runtime = boto_session.client(\n",
    "    service_name=\"sagemaker-featurestore-runtime\", region_name=region\n",
    ")\n",
    "\n",
    "# initialize sagemaker featurestore session\n",
    "feature_store_session = Session(\n",
    "    boto_session=boto_session,\n",
    "    sagemaker_client=sm,\n",
    "    sagemaker_featurestore_runtime_client=featurestore_runtime,\n",
    ")"
   ]
  },
  {
   "cell_type": "code",
   "execution_count": null,
   "metadata": {},
   "outputs": [],
   "source": [
    "# Default S3 bucket for offline feature store\n",
    "default_s3_bucket_name = feature_store_session.default_bucket()\n",
    "prefix = \"sagemaker-featurestore-sepsis\""
   ]
  },
  {
   "cell_type": "code",
   "execution_count": null,
   "metadata": {},
   "outputs": [],
   "source": [
    "# initialize our private bucket path\n",
    "s3_datalake_path_csv = \"s3://{}/sepsis-prediction/csv\".format(bucket)\n",
    "%store s3_datalake_path_csv"
   ]
  },
  {
   "cell_type": "code",
   "execution_count": null,
   "metadata": {},
   "outputs": [],
   "source": [
    "# initialize our private bucket path\n",
    "s3_datalake_path_prepared = \"s3://{}/sepsis-prediction/prepared\".format(bucket)\n",
    "%store s3_datalake_path_prepared"
   ]
  },
  {
   "cell_type": "code",
   "execution_count": null,
   "metadata": {},
   "outputs": [],
   "source": [
    "# initialize local data path\n",
    "local_data_path_csv = '/home/sagemaker-user/data'\n",
    "%store local_data_path_csv"
   ]
  },
  {
   "cell_type": "code",
   "execution_count": null,
   "metadata": {},
   "outputs": [],
   "source": [
    "# Set the datalake path to Parquet data\n",
    "s3_datalake_path_parquet = \"s3://{}/sepsis-prediction/parquet\".format(bucket)\n",
    "%store s3_datalake_path_parquet"
   ]
  },
  {
   "cell_type": "code",
   "execution_count": null,
   "metadata": {},
   "outputs": [],
   "source": [
    "\n",
    "# Set S3 staging directory\n",
    "s3_staging_dir = \"s3://{0}/athena/staging\".format(bucket)"
   ]
  },
  {
   "cell_type": "code",
   "execution_count": null,
   "metadata": {},
   "outputs": [],
   "source": [
    "# Set Athena parameters\n",
    "database_name = \"sepsisPatientData\""
   ]
  },
  {
   "cell_type": "code",
   "execution_count": null,
   "metadata": {},
   "outputs": [],
   "source": [
    "# Connect to the Athena staging directory\n",
    "conn = connect(region_name=region, s3_staging_dir=s3_staging_dir)"
   ]
  },
  {
   "cell_type": "code",
   "execution_count": null,
   "metadata": {},
   "outputs": [],
   "source": [
    "# Default store sales feature store name\n",
    "store_sales_feature_group_name = \"sepsis-prediction-feature-group\""
   ]
  },
  {
   "cell_type": "code",
   "execution_count": null,
   "metadata": {},
   "outputs": [],
   "source": [
    "# define default store sales feature group\n",
    "store_sales_feature_group = FeatureGroup(\n",
    "    name=store_sales_feature_group_name, sagemaker_session=feature_store_session\n",
    ")"
   ]
  },
  {
   "cell_type": "code",
   "execution_count": 3,
   "metadata": {},
   "outputs": [],
   "source": [
    "# define global time series parameters\n",
    "\n",
    "# Model will attempt to predict sepsis at least 6 hours before diagnosis\n",
    "PREDICTION_HORIZON = 6\n",
    "\n",
    "# Model will use previous x hours of data as input/lookback\n",
    "LOOKBACK_WINDOW = 48"
   ]
  },
  {
   "cell_type": "code",
   "execution_count": 1,
   "metadata": {},
   "outputs": [],
   "source": [
    "# selected features\n",
    "time_series_cols = ['Patient_ID', 'Hour', 'SepsisLabel']\n",
    "clinical_feature_cols = ['HR', 'O2Sat', 'Temp', 'SBP', 'MAP', 'DBP', 'Resp']\n",
    "lab_feature_cols = ['WBC', 'Platelets', 'Creatinine', 'Glucose', 'Lactate', 'Hct', 'BUN', 'Potassium', 'Magnesium', 'Calcium']\n",
    "demographic_feature_cols = ['Age', 'Gender', 'HospAdmTime', 'ICULOS']\n",
    "\n",
    "# capture chosen features for each\n",
    "continuous_feature_cols = clinical_feature_cols + lab_feature_cols\n",
    "selected_feature_cols = time_series_cols + clinical_feature_cols + lab_feature_cols + demographic_feature_cols"
   ]
  },
  {
   "cell_type": "markdown",
   "metadata": {},
   "source": [
    "### Initialie Global Functions"
   ]
  },
  {
   "cell_type": "code",
   "execution_count": 8,
   "metadata": {},
   "outputs": [],
   "source": [
    "# get patient IDs that have minimum required time series length\n",
    "def get_patient_ids_meets_data_threshold(min_ts_length, max_missing_clinicals_pct):\n",
    "    table_name = \"patient_stats\"\n",
    "\n",
    "    # Define SQL query\n",
    "    statement = \"\"\"SELECT patient_id FROM {}.{}\n",
    "        WHERE max_hour >= ({}) AND\n",
    "        missing_clinicals_pct < {} AND\n",
    "        total_labs > 0\"\"\".format(\n",
    "        database_name, table_name, min_ts_length, max_missing_clinicals_pct\n",
    "    )\n",
    "\n",
    "    df = pd.read_sql(statement, conn)\n",
    "    return df\n",
    "\n",
    "# get patient IDs that have minimum required time series length\n",
    "def load_clean_dataset(lookback=\"\", p_horizon=\"\"):\n",
    "    table_name = \"sepsis_data_clean\"\n",
    "    lookback = str(lookback)\n",
    "    p_horizon = str(p_horizon)\n",
    "    if((len(lookback) > 0) and (len(p_horizon) > 0)):\n",
    "        table_name = table_name + \"_\" + str(lookback) + \"_\" + str(p_horizon)\n",
    "    print(table_name)\n",
    "    # Define SQL query\n",
    "    statement = \"\"\"SELECT * FROM {}.{}\n",
    "    ORDER BY patient_id, hr\"\"\".format(\n",
    "        database_name, table_name\n",
    "    )\n",
    "    df = wr.athena.read_sql_query(statement, database=database_name)\n",
    "    #df = pd.read_sql(statement, conn)\n",
    "    return df"
   ]
  }
 ],
 "metadata": {
  "kernelspec": {
   "display_name": "base",
   "language": "python",
   "name": "python3"
  },
  "language_info": {
   "codemirror_mode": {
    "name": "ipython",
    "version": 3
   },
   "file_extension": ".py",
   "mimetype": "text/x-python",
   "name": "python",
   "nbconvert_exporter": "python",
   "pygments_lexer": "ipython3",
   "version": "3.11.10"
  }
 },
 "nbformat": 4,
 "nbformat_minor": 2
}
