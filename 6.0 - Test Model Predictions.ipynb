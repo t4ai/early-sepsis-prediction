{
 "cells": [
  {
   "cell_type": "markdown",
   "metadata": {},
   "source": [
    "## Part VI: Test Model Predictions\n",
    "\n",
    "In this section, some sample patients will be run through the SCT predictions for evaluation.\n",
    "\n",
    "This will include:\n",
    "\n",
    "1.  Evaluate both positive and negative predictions\n",
    "2.  Compare v. Deterioration Index\n",
    "3.  Compare Deterioration Index for postive and negative predictions"
   ]
  },
  {
   "cell_type": "code",
   "execution_count": null,
   "metadata": {},
   "outputs": [],
   "source": []
  }
 ],
 "metadata": {
  "language_info": {
   "name": "python"
  }
 },
 "nbformat": 4,
 "nbformat_minor": 2
}
