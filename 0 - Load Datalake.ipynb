{
 "cells": [
  {
   "cell_type": "markdown",
   "metadata": {},
   "source": [
    "## Part 0: Ingest Dataset into Data Lake"
   ]
  },
  {
   "cell_type": "code",
   "execution_count": 4,
   "metadata": {},
   "outputs": [
    {
     "name": "stdout",
     "output_type": "stream",
     "text": [
      "Stored 's3_datalake_path_csv' (str)\n",
      "Stored 'local_data_path_csv' (str)\n",
      "Stored 's3_datalake_path_parquet' (str)\n"
     ]
    }
   ],
   "source": [
    "# setup environment\n",
    "%run environment-setup.ipynb"
   ]
  },
  {
   "cell_type": "code",
   "execution_count": 5,
   "metadata": {},
   "outputs": [],
   "source": [
    "# setup paths\n",
    "dataset_local_path = local_data_path_csv + \"/dataset.csv\"\n",
    "ts_stats_local_path = local_data_path_csv + \"/patient_ts_stats.csv\""
   ]
  },
  {
   "cell_type": "code",
   "execution_count": 6,
   "metadata": {},
   "outputs": [
    {
     "name": "stdout",
     "output_type": "stream",
     "text": [
      "Downloading...\n",
      "From (original): https://drive.google.com/uc?id=1Q4xQlbOBxJNbBMJN49vT7Jb4Oa6nu0xv\n",
      "From (redirected): https://drive.google.com/uc?id=1Q4xQlbOBxJNbBMJN49vT7Jb4Oa6nu0xv&confirm=t&uuid=dc0ff136-16c6-4e93-aa9c-b968809e9ae7\n",
      "To: /home/sagemaker-user/data/dataset.csv\n",
      "100%|████████████████████████████████████████| 154M/154M [00:01<00:00, 87.2MB/s]\n",
      "Downloading...\n",
      "From: https://drive.google.com/uc?id=1wjhCGLDahcDz0qa-oH_9pKhpHvQzJfev\n",
      "To: /home/sagemaker-user/data/patient_ts_stats.csv\n",
      "100%|██████████████████████████████████████| 1.60M/1.60M [00:00<00:00, 28.2MB/s]\n"
     ]
    }
   ],
   "source": [
    "# fetch the dataset from GDrive\n",
    "!mkdir -p /home/sagemaker-user/data\n",
    "!gdown '1Q4xQlbOBxJNbBMJN49vT7Jb4Oa6nu0xv' -O $dataset_local_path\n",
    "!gdown '1wjhCGLDahcDz0qa-oH_9pKhpHvQzJfev' -O $ts_stats_local_path\n"
   ]
  },
  {
   "cell_type": "code",
   "execution_count": 7,
   "metadata": {},
   "outputs": [
    {
     "name": "stdout",
     "output_type": "stream",
     "text": [
      "upload: ../data/patient_ts_stats.csv to s3://sagemaker-us-east-1-343218227212/sepsis-prediction/csv/patient_ts_stats.csv\n",
      "upload: ../data/dataset.csv to s3://sagemaker-us-east-1-343218227212/sepsis-prediction/csv/dataset.csv\n"
     ]
    }
   ],
   "source": [
    "# copy the dataset files to the datalake\n",
    "!aws s3 cp $local_data_path_csv $s3_datalake_path_csv --recursive --exclude \"*\" --include \"*.csv\""
   ]
  }
 ],
 "metadata": {
  "kernelspec": {
   "display_name": "base",
   "language": "python",
   "name": "python3"
  },
  "language_info": {
   "codemirror_mode": {
    "name": "ipython",
    "version": 3
   },
   "file_extension": ".py",
   "mimetype": "text/x-python",
   "name": "python",
   "nbconvert_exporter": "python",
   "pygments_lexer": "ipython3",
   "version": "3.11.10"
  }
 },
 "nbformat": 4,
 "nbformat_minor": 2
}
