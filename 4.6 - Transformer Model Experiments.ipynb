{
 "cells": [
  {
   "cell_type": "markdown",
   "metadata": {},
   "source": [
    "## Part IV.16: Experiments with Transformer Model Architecture\n",
    "\n",
    "In this section, experiments and tuning exercises will be conducted using Transformer foundational model architecture.  This will include the following:\n",
    "\n",
    "1.  Experiments with different depths of Transformer model architectures (number of encoder layers, etc.)\n",
    "2.  Hyperparameter tuning/optimization"
   ]
  },
  {
   "cell_type": "code",
   "execution_count": null,
   "metadata": {},
   "outputs": [],
   "source": []
  }
 ],
 "metadata": {
  "language_info": {
   "name": "python"
  }
 },
 "nbformat": 4,
 "nbformat_minor": 2
}
