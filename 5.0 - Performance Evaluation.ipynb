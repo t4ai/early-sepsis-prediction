{
  "cells": [
    {
      "cell_type": "markdown",
      "metadata": {
        "id": "TrPnYAGCV2Wi"
      },
      "source": [
        "## Part V: Performance Evaluation on Test Dataset of Top Models\n",
        "\n",
        "In this section, the top CNN, Transformer and SCT models will be evaluated for performance against the hold out test dataset\n",
        "\n",
        "Performance metrics are:\n",
        "\n",
        "1.  Precision, Recall, AUC-ROC, Binary Accuracy\n",
        "2.  Generate AUC-ROC Curves\n",
        "3.  Generate Confusion Matrices"
      ]
    },
    {
      "cell_type": "code",
      "source": [
        "import time\n",
        "import pandas as pd\n",
        "import numpy as np\n",
        "import os\n",
        "import matplotlib.pyplot as plt\n",
        "import seaborn as sns\n",
        "\n",
        "import tensorflow as tf\n",
        "from tensorflow import keras\n",
        "from tensorflow.keras import backend as K\n",
        "from keras import layers\n",
        "from sklearn import preprocessing\n",
        "from sklearn.utils import class_weight\n",
        "from sklearn.metrics import mean_absolute_error, root_mean_squared_error, ConfusionMatrixDisplay, confusion_matrix, roc_auc_score, roc_curve, RocCurveDisplay"
      ],
      "metadata": {
        "id": "0rIkJX1FWSYw"
      },
      "execution_count": null,
      "outputs": []
    },
    {
      "cell_type": "code",
      "source": [],
      "metadata": {
        "id": "Ra1VtbqgWZXN"
      },
      "execution_count": null,
      "outputs": []
    },
    {
      "cell_type": "markdown",
      "source": [
        "### Load Dataset"
      ],
      "metadata": {
        "id": "12kCx1yNWgRO"
      }
    },
    {
      "cell_type": "code",
      "source": [
        "if(LOAD_FROM_GDRIVE):\n",
        "    # mount google drive to load data\n",
        "    from google.colab import drive\n",
        "    drive.mount('/content/drive')\n",
        "\n",
        "    dataset_root = '/content/drive/MyDrive/Datasets/sepsis/prepared/'\n",
        "\n",
        "    X_train = np.load(os.path.join(dataset_root, 'X_train.npy'))\n",
        "    y_train = np.load(os.path.join(dataset_root, 'y_train.npy'))\n",
        "\n",
        "    X_test = np.load(os.path.join(dataset_root, 'X_test.npy'))\n",
        "    y_test = np.load(os.path.join(dataset_root, 'y_test.npy'))\n",
        "\n",
        "    X_val =  np.load(os.path.join(dataset_root, 'X_val.npy'))\n",
        "    y_val = np.load(os.path.join(dataset_root, 'y_val.npy'))\n",
        "\n",
        "else:\n",
        "    # load from datalake (S3)\n",
        "    !aws s3 cp $s3_datalake_path_prepared $local_data_path_csv --recursive --exclude \"*\" --include \"*.npy\"\n",
        "\n",
        "    X_train = np.load(os.path.join(local_data_path_csv, 'X_train.npy'))\n",
        "    y_train = np.load(os.path.join(local_data_path_csv, 'y_train.npy'))\n",
        "\n",
        "    X_test = np.load(os.path.join(local_data_path_csv, 'X_test.npy'))\n",
        "    y_test = np.load(os.path.join(local_data_path_csv, 'y_test.npy'))\n",
        "\n",
        "    X_val =  np.load(os.path.join(local_data_path_csv, 'X_val.npy'))\n",
        "    y_val = np.load(os.path.join(local_data_path_csv, 'y_val.npy'))"
      ],
      "metadata": {
        "id": "4E0SPCTDWfCP"
      },
      "execution_count": null,
      "outputs": []
    },
    {
      "cell_type": "code",
      "source": [
        "# refactor targets to work for modeling\n",
        "y_train = y_train.reshape(-1,1)\n",
        "y_test = y_test.reshape(-1,1)\n",
        "y_val = y_val.reshape(-1,1)"
      ],
      "metadata": {
        "id": "KyKCq-gxWjK5"
      },
      "execution_count": null,
      "outputs": []
    },
    {
      "cell_type": "code",
      "source": [
        "# global default parameters\n",
        "NUM_EPOCHS = 500\n",
        "BATCH_SIZE = 64\n",
        "LEARNING_RATE = 1e-4\n",
        "input_shape = X_train.shape[1:]\n",
        "\n",
        "# calculate class weights to handle class imbalance\n",
        "class_weights = class_weight.compute_class_weight(class_weight='balanced', classes=np.unique(y_train), y=y_train.reshape(-1,))\n",
        "class_weights = dict(enumerate(class_weights))\n",
        "class_weights"
      ],
      "metadata": {
        "id": "N0OePNXIWl7u"
      },
      "execution_count": null,
      "outputs": []
    },
    {
      "cell_type": "code",
      "source": [
        "# helper functions for perf eval\n",
        "\n",
        "# run forward pass and plot confusion matrix\n",
        "def predict_and_plot_confusion(model, X, y, title):\n",
        "  y_pred = model.predict(X)\n",
        "  cm = confusion_matrix(y, np.round(y_pred).tolist())\n",
        "  ConfusionMatrixDisplay(confusion_matrix=cm).plot();\n",
        "  plt.title(title)\n",
        "\n",
        "# run forward pass and print metrics\n",
        "def predict_and_print_metrics(model, X, y):\n",
        "  results = model.evaluate(X, y, batch_size=BATCH_SIZE)\n",
        "  print(f\"Loss: {results[0]}\")\n",
        "  print(f\"Binary Accuracy: {results[1]}\")\n",
        "  print(f\"Precision: {results[2]}\")\n",
        "  print(f\"Recall: {results[3]}\")"
      ],
      "metadata": {
        "id": "Ic5EOMbeWujX"
      },
      "execution_count": null,
      "outputs": []
    },
    {
      "cell_type": "markdown",
      "metadata": {
        "id": "uxK80fTgV2Wm"
      },
      "source": [
        "### Evaluate Best SCT Model on Hold Out Test Data"
      ]
    },
    {
      "cell_type": "code",
      "execution_count": null,
      "metadata": {
        "id": "szoC0dmqV2Wn"
      },
      "outputs": [],
      "source": [
        "# load best SCT\n",
        "best_model_sct = keras.models.load_model('/content/drive/MyDrive/Datasets/sepsis/models/xformer_cnn_tuned.keras')"
      ]
    },
    {
      "cell_type": "code",
      "execution_count": null,
      "metadata": {
        "id": "18B-Yc7UV2Wo",
        "outputId": "01e6bb63-e9f5-4af1-b731-fa57df7278b1"
      },
      "outputs": [
        {
          "name": "stdout",
          "output_type": "stream",
          "text": [
            "\u001b[1m13/13\u001b[0m \u001b[32m━━━━━━━━━━━━━━━━━━━━\u001b[0m\u001b[37m\u001b[0m \u001b[1m0s\u001b[0m 6ms/step\n"
          ]
        },
        {
          "data": {
            "image/png": "[encoded data removed]",
            "text/plain": [
              "<Figure size 640x480 with 2 Axes>"
            ]
          },
          "metadata": {},
          "output_type": "display_data"
        }
      ],
      "source": [
        "# get metrics for model on val data\n",
        "predict_and_plot_confusion(best_model_sct, X_test, y_test, \"Confusion Matrix - Best Tuned SCT Model [Test Data]\")"
      ]
    },
    {
      "cell_type": "code",
      "execution_count": null,
      "metadata": {
        "id": "YOthtGeYV2Wq",
        "outputId": "55bc2cd0-60de-46e7-b718-b42d001d88a9"
      },
      "outputs": [
        {
          "name": "stdout",
          "output_type": "stream",
          "text": [
            "\u001b[1m7/7\u001b[0m \u001b[32m━━━━━━━━━━━━━━━━━━━━\u001b[0m\u001b[37m\u001b[0m \u001b[1m0s\u001b[0m 10ms/step - binary_accuracy: 0.9005 - loss: 0.4882 - precision: 0.7726 - recall: 0.9027\n",
            "Loss: 0.5147616863250732\n",
            "Binary Accuracy: 0.8917526006698608\n",
            "Precision: 0.8016529083251953\n",
            "Recall: 0.843478262424469\n"
          ]
        }
      ],
      "source": [
        "predict_and_print_metrics(best_model_sct, X_test, y_test)"
      ]
    },
    {
      "cell_type": "code",
      "execution_count": null,
      "metadata": {
        "id": "LOoeL2GBV2Wq",
        "outputId": "a0b1f45d-82d0-4f2c-ebbe-52e85b0a4180"
      },
      "outputs": [
        {
          "name": "stdout",
          "output_type": "stream",
          "text": [
            "\u001b[1m13/13\u001b[0m \u001b[32m━━━━━━━━━━━━━━━━━━━━\u001b[0m\u001b[37m\u001b[0m \u001b[1m5s\u001b[0m 432ms/step\n"
          ]
        },
        {
          "data": {
            "text/plain": [
              "<sklearn.metrics._plot.roc_curve.RocCurveDisplay at 0x7d5cd9525b10>"
            ]
          },
          "metadata": {},
          "output_type": "display_data"
        },
        {
          "data": {
            "image/png": "[encoded data removed]",
            "text/plain": [
              "<Figure size 640x480 with 1 Axes>"
            ]
          },
          "metadata": {},
          "output_type": "display_data"
        }
      ],
      "source": [
        "# calc AUC ROC\n",
        "y_pred_test = best_model_sct.predict(X_test)\n",
        "RocCurveDisplay.from_predictions(y_test, y_pred_test)"
      ]
    },
    {
      "cell_type": "markdown",
      "source": [
        "### Evaluate Best CNN Model"
      ],
      "metadata": {
        "id": "g3SSsbsRWFjV"
      }
    },
    {
      "cell_type": "code",
      "execution_count": null,
      "metadata": {
        "id": "mS9urWS_V2Wr"
      },
      "outputs": [],
      "source": [
        "# load best checkpoint\n",
        "best_model_sct = tf.keras.models.load_model('/content/drive/MyDrive/Datasets/sepsis/models/cnn-e1.keras')"
      ]
    },
    {
      "cell_type": "code",
      "execution_count": null,
      "metadata": {
        "id": "q63zpd6nV2Wr"
      },
      "outputs": [],
      "source": [
        "# get metrics for model on val data\n",
        "predict_and_plot_confusion(best_model_sct, X_test, y_test, \"Confusion Matrix - Best Tuned SCT Model [Test Data]\")"
      ]
    },
    {
      "cell_type": "code",
      "source": [
        "predict_and_print_metrics(best_model_sct, X_test, y_test)"
      ],
      "metadata": {
        "id": "m7Q5sdG9WMPh"
      },
      "execution_count": null,
      "outputs": []
    },
    {
      "cell_type": "code",
      "source": [
        "# calc AUC ROC\n",
        "y_pred_test = best_model_sct.predict(X_test)\n",
        "RocCurveDisplay.from_predictions(y_test, y_pred_test)"
      ],
      "metadata": {
        "id": "nq0x2XKNWPAh"
      },
      "execution_count": null,
      "outputs": []
    }
  ],
  "metadata": {
    "language_info": {
      "name": "python"
    },
    "colab": {
      "provenance": []
    }
  },
  "nbformat": 4,
  "nbformat_minor": 0
}