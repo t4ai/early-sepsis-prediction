{
 "cells": [
  {
   "cell_type": "code",
   "execution_count": null,
   "id": "8c4da5ef-1ed4-4a83-ab91-e0fd86f3140a",
   "metadata": {},
   "outputs": [],
   "source": [
    "import numpy as np\n",
    "import tensorflow as tf\n",
    "from tensorflow.keras.models import Sequential\n",
    "from tensorflow.keras.layers import LSTM, Dense, Dropout\n",
    "from tensorflow.keras.optimizers import Adam"
   ]
  },
  {
   "cell_type": "code",
   "execution_count": null,
   "id": "eeee6a27-1383-47df-9e4a-9456f589ce8e",
   "metadata": {},
   "outputs": [],
   "source": [
    "# 1. Load the training data\n",
    "X_train = np.load('X_train.npy')  # shape: (num_samples, time_steps, num_features)\n",
    "y_train = np.load('y_train.npy')  # shape: (num_samples,)\n",
    "\n",
    "# 2. Sample 1% of the data\n",
    "sample_size = int(X_train.shape[0] * 0.01)  # 1% of the total data size\n",
    "indices = np.random.choice(X_train.shape[0], size=sample_size, replace=False)\n",
    "\n",
    "# 3. Apply the sampling to the data\n",
    "X_train_sampled = X_train[indices]\n",
    "y_train_sampled = y_train[indices]"
   ]
  },
  {
   "cell_type": "code",
   "execution_count": null,
   "id": "9ef0c1b6-219b-45e0-81a1-a5ee23eda704",
   "metadata": {},
   "outputs": [],
   "source": [
    "# 4. Build the Micro-LSTM model\n",
    "model = Sequential()\n",
    "\n",
    "# LSTM layer - use a small number of units for a lightweight model\n",
    "model.add(LSTM(32, activation='relu', input_shape=(X_train_sampled.shape[1], X_train_sampled.shape[2]), return_sequences=False))\n",
    "\n",
    "# Dropout layer to prevent overfitting (can be adjusted based on performance)\n",
    "model.add(Dropout(0.2))\n",
    "\n",
    "# Dense output layer for binary classification (can be changed if you have more classes)\n",
    "model.add(Dense(1, activation='sigmoid'))"
   ]
  },
  {
   "cell_type": "code",
   "execution_count": null,
   "id": "45ac09df-889d-4696-9d3d-0c2f9bc4a9e3",
   "metadata": {},
   "outputs": [],
   "source": [
    "# 5. Compile the model\n",
    "model.compile(optimizer=Adam(learning_rate=0.001), loss='binary_crossentropy', metrics=['accuracy'])\n",
    "\n",
    "# 6. Train the model with the 1% sampled data\n",
    "model.fit(X_train_sampled, y_train_sampled, epochs=10, batch_size=32, validation_split=0.2)\n",
    "\n",
    "# Optionally, save the model\n",
    "model.save('microlstm_sepsis_model_sampled.h5')"
   ]
  }
 ],
 "metadata": {
  "kernelspec": {
   "display_name": "Python 3 (ipykernel)",
   "language": "python",
   "name": "python3"
  },
  "language_info": {
   "codemirror_mode": {
    "name": "ipython",
    "version": 3
   },
   "file_extension": ".py",
   "mimetype": "text/x-python",
   "name": "python",
   "nbconvert_exporter": "python",
   "pygments_lexer": "ipython3",
   "version": "3.12.7"
  }
 },
 "nbformat": 4,
 "nbformat_minor": 5
}
