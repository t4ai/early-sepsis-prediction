{
 "cells": [
  {
   "cell_type": "markdown",
   "metadata": {},
   "source": [
    "# Early Sepsis Prediction in ICU Patients Using Machine Learning\n",
    "### Capstone Project\n",
    "### AAI-590 Team 3 \n",
    "\n",
    "Team 3:  Ahmed Ibrahim Ahmed, Tyler Foreman, Eric Barnes, Ryan Laxamana\n",
    "\n",
    "University of San Diego, M.S. Applied Artificial Intelligence\n",
    "\n",
    "Date:  August 12, 2024\n",
    "\n",
    "GitHub Repository: https://github.com/t4ai/early-sepsis-prediction"
   ]
  },
  {
   "cell_type": "markdown",
   "metadata": {},
   "source": []
  }
 ],
 "metadata": {
  "language_info": {
   "name": "python"
  }
 },
 "nbformat": 4,
 "nbformat_minor": 2
}
