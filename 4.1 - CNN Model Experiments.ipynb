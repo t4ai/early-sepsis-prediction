{
  "cells": [
    {
      "cell_type": "markdown",
      "metadata": {
        "id": "CGKe9BrCu5HL"
      },
      "source": [
        "## Part IV.1: Experiments with CNN Model Architecture\n",
        "\n",
        "In this section, experiments and tuning exercises will be conducted using CNN foundational model architecture.  This will include the following:\n",
        "\n",
        "1.  Experiments with different CNN model architectures (number of conv layers, etc.)\n",
        "2.  Experiments with regularization methods (if necessary) including dropout layers, batch normalization, etc.\n",
        "3.  Hyperparameter tuning/optimization"
      ]
    },
    {
      "cell_type": "code",
      "source": [
        "import time\n",
        "import pandas as pd\n",
        "import numpy as np\n",
        "import os\n",
        "import matplotlib.pyplot as plt\n",
        "import seaborn as sns\n",
        "\n",
        "import tensorflow as tf\n",
        "from tensorflow import keras\n",
        "from sklearn import preprocessing\n",
        "from sklearn.utils import class_weight\n",
        "from sklearn.metrics import mean_absolute_error, root_mean_squared_error, ConfusionMatrixDisplay, confusion_matrix"
      ],
      "metadata": {
        "id": "fRkzFJb3yC1y"
      },
      "execution_count": 1,
      "outputs": []
    },
    {
      "cell_type": "markdown",
      "source": [
        "### Load Prepared Datasets"
      ],
      "metadata": {
        "id": "hely7yMjy2qO"
      }
    },
    {
      "cell_type": "code",
      "source": [
        "LOAD_FROM_GDRIVE = True"
      ],
      "metadata": {
        "id": "oJdQDTAZwqJ1"
      },
      "execution_count": 2,
      "outputs": []
    },
    {
      "cell_type": "code",
      "execution_count": 3,
      "metadata": {
        "id": "fGy9zhzeu5HN",
        "outputId": "3cdf6c6e-7f0c-44a5-a89a-7cbfd33f7f2e",
        "colab": {
          "base_uri": "https://localhost:8080/"
        }
      },
      "outputs": [
        {
          "output_type": "stream",
          "name": "stdout",
          "text": [
            "Mounted at /content/drive\n"
          ]
        }
      ],
      "source": [
        "if(LOAD_FROM_GDRIVE):\n",
        "    # mount google drive to load data\n",
        "    from google.colab import drive\n",
        "    drive.mount('/content/drive')\n",
        "\n",
        "    dataset_root = '/content/drive/MyDrive/Datasets/sepsis/prepared'\n",
        "\n",
        "    X_train = np.load(os.path.join(dataset_root, 'X_train.npy'))\n",
        "    y_train = np.load(os.path.join(dataset_root, 'y_train.npy'))\n",
        "\n",
        "    X_test = np.load(os.path.join(dataset_root, 'X_test.npy'))\n",
        "    y_test = np.load(os.path.join(dataset_root, 'y_test.npy'))\n",
        "\n",
        "    X_val =  np.load(os.path.join(dataset_root, 'X_val.npy'))\n",
        "    y_val = np.load(os.path.join(dataset_root, 'y_val.npy'))\n",
        "\n",
        "else:\n",
        "    # load from datalake (S3)\n",
        "    !aws s3 cp $s3_datalake_path_prepared $local_data_path_csv --recursive --exclude \"*\" --include \"*.npy\"\n",
        "\n",
        "    X_train = np.load(os.path.join(local_data_path_csv, 'X_train.npy'))\n",
        "    y_train = np.load(os.path.join(local_data_path_csv, 'y_train.npy'))\n",
        "\n",
        "    X_test = np.load(os.path.join(local_data_path_csv, 'X_test.npy'))\n",
        "    y_test = np.load(os.path.join(local_data_path_csv, 'y_test.npy'))\n",
        "\n",
        "    X_val =  np.load(os.path.join(local_data_path_csv, 'X_val.npy'))\n",
        "    y_val = np.load(os.path.join(local_data_path_csv, 'y_val.npy'))"
      ]
    },
    {
      "cell_type": "code",
      "source": [
        "# inspect the loaded data\n",
        "print(f\"Train data shape: X: {X_train.shape}, y: {y_train.shape}\")\n",
        "print(f\"Test data shape: X: {X_test.shape}, y: {y_test.shape}\")\n",
        "print(f\"Validation data shape: X: {X_val.shape}, y: {y_val.shape}\")"
      ],
      "metadata": {
        "id": "7T0oG6Skx6hQ",
        "outputId": "7fdfa86e-a09d-4e33-a042-1835aed20e84",
        "colab": {
          "base_uri": "https://localhost:8080/"
        }
      },
      "execution_count": 4,
      "outputs": [
        {
          "output_type": "stream",
          "name": "stdout",
          "text": [
            "Train data shape: X: (3105, 48, 56), y: (3105,)\n",
            "Test data shape: X: (388, 48, 56), y: (388,)\n",
            "Validation data shape: X: (389, 48, 56), y: (389,)\n"
          ]
        }
      ]
    },
    {
      "cell_type": "code",
      "source": [
        "# refactor targets to work for modeling\n",
        "y_train = y_train.reshape(-1,1)\n",
        "y_test = y_test.reshape(-1,1)\n",
        "y_val = y_val.reshape(-1,1)"
      ],
      "metadata": {
        "id": "B_3ir_DC25eE"
      },
      "execution_count": 5,
      "outputs": []
    },
    {
      "cell_type": "code",
      "source": [
        "# global default training parameters\n",
        "NUM_EPOCHS = 30\n",
        "BATCH_SIZE = 32\n",
        "LEARNING_RATE = 0.001\n",
        "\n",
        "# calculate class weights to handle class imbalance\n",
        "class_weights = class_weight.compute_class_weight(class_weight='balanced', classes=np.unique(y_train), y=y_train.reshape(-1,))\n",
        "class_weights = dict(enumerate(class_weights))\n",
        "class_weights"
      ],
      "metadata": {
        "id": "cTJ5cSpm1OGr",
        "colab": {
          "base_uri": "https://localhost:8080/"
        },
        "outputId": "92925688-0d50-4e89-efce-0839e739f341"
      },
      "execution_count": 6,
      "outputs": [
        {
          "output_type": "execute_result",
          "data": {
            "text/plain": [
              "{0: 0.6933899062081287, 1: 1.7927251732101617}"
            ]
          },
          "metadata": {},
          "execution_count": 6
        }
      ]
    },
    {
      "cell_type": "code",
      "source": [
        "y_train.sum() / len(y_train)"
      ],
      "metadata": {
        "colab": {
          "base_uri": "https://localhost:8080/"
        },
        "id": "iaYOOqmGPsN2",
        "outputId": "1da5e37e-5134-4aef-8a17-39feb1030340"
      },
      "execution_count": 7,
      "outputs": [
        {
          "output_type": "execute_result",
          "data": {
            "text/plain": [
              "0.2789049919484702"
            ]
          },
          "metadata": {},
          "execution_count": 7
        }
      ]
    },
    {
      "cell_type": "code",
      "source": [
        "y_val.sum() / len(y_val)"
      ],
      "metadata": {
        "colab": {
          "base_uri": "https://localhost:8080/"
        },
        "id": "02CeXNBMP8yX",
        "outputId": "9b0cef65-1ad8-4d1a-f47a-b628bee551af"
      },
      "execution_count": 8,
      "outputs": [
        {
          "output_type": "execute_result",
          "data": {
            "text/plain": [
              "0.2570694087403599"
            ]
          },
          "metadata": {},
          "execution_count": 8
        }
      ]
    },
    {
      "cell_type": "code",
      "source": [
        "y_val.sum()"
      ],
      "metadata": {
        "colab": {
          "base_uri": "https://localhost:8080/"
        },
        "id": "AUiVuPRjy6kg",
        "outputId": "f07df130-62a2-4bca-ba87-5f8108e6f1b8"
      },
      "execution_count": 9,
      "outputs": [
        {
          "output_type": "execute_result",
          "data": {
            "text/plain": [
              "100"
            ]
          },
          "metadata": {},
          "execution_count": 9
        }
      ]
    },
    {
      "cell_type": "markdown",
      "source": [
        "### Helper Functions for Training"
      ],
      "metadata": {
        "id": "nyrsgVKFQcZH"
      }
    },
    {
      "cell_type": "code",
      "source": [
        "# compile and train model\n",
        "def compile_and_train_adam(model, checkpoint_callback):\n",
        "  # Compile the model\n",
        "  model.compile(\n",
        "    optimizer=keras.optimizers.Adam(learning_rate=LEARNING_RATE),\n",
        "    loss=tf.keras.losses.BinaryCrossentropy(),\n",
        "    metrics=[keras.metrics.BinaryAccuracy(), keras.metrics.Precision(), keras.metrics.Recall(), keras.metrics.F1Score()]\n",
        "  )\n",
        "  # Train the model\n",
        "  history = model.fit(X_train, y_train, validation_data=(X_val,y_val), epochs=NUM_EPOCHS, batch_size=BATCH_SIZE, class_weight=class_weights, callbacks=[checkpoint_callback])\n",
        "  return history\n",
        "\n",
        "# plot loss curves\n",
        "def plot_loss(history, title):\n",
        "  plt.plot(history.history['loss'])\n",
        "  plt.plot(history.history['val_loss'])\n",
        "  plt.title(title)\n",
        "  plt.ylabel('loss')\n",
        "  plt.xlabel('epoch')\n",
        "  plt.legend(['Tain', 'Val'])\n",
        "  plt.show()\n",
        "\n",
        "# run forward pass and plot confusion matrix\n",
        "def predict_and_plot_confusion(model, title):\n",
        "  y_pred = model.predict(X_val)\n",
        "  cm = confusion_matrix(y_val, np.round(y_pred).tolist())\n",
        "  ConfusionMatrixDisplay(confusion_matrix=cm).plot();\n",
        "  plt.title(title)"
      ],
      "metadata": {
        "id": "TugFfxerQpSO"
      },
      "execution_count": 20,
      "outputs": []
    },
    {
      "cell_type": "markdown",
      "source": [
        "### Baseline CNN Model"
      ],
      "metadata": {
        "id": "lftv0GSDy8w9"
      }
    },
    {
      "cell_type": "code",
      "source": [
        "# setup checkpoint\n",
        "checkpoint_filepath = '/content/drive/MyDrive/Datasets/sepsis/models/cnn-1.keras'\n",
        "model_checkpoint_callback = keras.callbacks.ModelCheckpoint(\n",
        "    filepath=checkpoint_filepath,\n",
        "    monitor='val_binary_accuracy',\n",
        "    mode='max',\n",
        "    save_best_only=True)\n",
        "\n",
        "cnn_baseline = tf.keras.Sequential([\n",
        "\n",
        "  tf.keras.layers.Input(shape=X_train.shape[1:]),\n",
        "\n",
        "  tf.keras.layers.Conv1D(256, kernel_size=3, activation='relu'),\n",
        "  tf.keras.layers.MaxPooling1D(2),\n",
        "\n",
        "  tf.keras.layers.Flatten(),\n",
        "\n",
        "  tf.keras.layers.Dense(64, activation='relu'),\n",
        "  tf.keras.layers.Dense(1, activation='sigmoid')\n",
        "])"
      ],
      "metadata": {
        "id": "pBeKHpe_y0yW"
      },
      "execution_count": 11,
      "outputs": []
    },
    {
      "cell_type": "code",
      "source": [
        "# Train the model\n",
        "history_cnn_baseline = compile_and_train_adam(cnn_baseline, model_checkpoint_callback)"
      ],
      "metadata": {
        "id": "WiBR0QRdzuWm",
        "outputId": "a5f407c6-f1c9-467c-8bac-baabc62036e5",
        "colab": {
          "base_uri": "https://localhost:8080/"
        }
      },
      "execution_count": 13,
      "outputs": [
        {
          "output_type": "stream",
          "name": "stdout",
          "text": [
            "Epoch 1/30\n",
            "\u001b[1m98/98\u001b[0m \u001b[32m━━━━━━━━━━━━━━━━━━━━\u001b[0m\u001b[37m\u001b[0m \u001b[1m7s\u001b[0m 29ms/step - binary_accuracy: 0.6978 - f1_score: 0.4465 - loss: 0.6181 - precision: 0.4948 - recall: 0.6968 - val_binary_accuracy: 0.8303 - val_f1_score: 0.4090 - val_loss: 0.3923 - val_precision: 0.6604 - val_recall: 0.7000\n",
            "Epoch 2/30\n",
            "\u001b[1m98/98\u001b[0m \u001b[32m━━━━━━━━━━━━━━━━━━━━\u001b[0m\u001b[37m\u001b[0m \u001b[1m0s\u001b[0m 3ms/step - binary_accuracy: 0.8594 - f1_score: 0.4467 - loss: 0.3819 - precision: 0.7220 - recall: 0.8359 - val_binary_accuracy: 0.8612 - val_f1_score: 0.4090 - val_loss: 0.3489 - val_precision: 0.7396 - val_recall: 0.7100\n",
            "Epoch 3/30\n",
            "\u001b[1m98/98\u001b[0m \u001b[32m━━━━━━━━━━━━━━━━━━━━\u001b[0m\u001b[37m\u001b[0m \u001b[1m0s\u001b[0m 2ms/step - binary_accuracy: 0.8826 - f1_score: 0.4470 - loss: 0.3079 - precision: 0.7562 - recall: 0.8746 - val_binary_accuracy: 0.8586 - val_f1_score: 0.4090 - val_loss: 0.3294 - val_precision: 0.7528 - val_recall: 0.6700\n",
            "Epoch 4/30\n",
            "\u001b[1m98/98\u001b[0m \u001b[32m━━━━━━━━━━━━━━━━━━━━\u001b[0m\u001b[37m\u001b[0m \u001b[1m0s\u001b[0m 3ms/step - binary_accuracy: 0.8893 - f1_score: 0.4381 - loss: 0.2989 - precision: 0.7652 - recall: 0.8754 - val_binary_accuracy: 0.8638 - val_f1_score: 0.4090 - val_loss: 0.3913 - val_precision: 0.7831 - val_recall: 0.6500\n",
            "Epoch 5/30\n",
            "\u001b[1m98/98\u001b[0m \u001b[32m━━━━━━━━━━━━━━━━━━━━\u001b[0m\u001b[37m\u001b[0m \u001b[1m0s\u001b[0m 3ms/step - binary_accuracy: 0.9105 - f1_score: 0.4468 - loss: 0.2539 - precision: 0.8144 - recall: 0.8944 - val_binary_accuracy: 0.8792 - val_f1_score: 0.4090 - val_loss: 0.3160 - val_precision: 0.7912 - val_recall: 0.7200\n",
            "Epoch 6/30\n",
            "\u001b[1m98/98\u001b[0m \u001b[32m━━━━━━━━━━━━━━━━━━━━\u001b[0m\u001b[37m\u001b[0m \u001b[1m0s\u001b[0m 3ms/step - binary_accuracy: 0.9221 - f1_score: 0.4489 - loss: 0.2023 - precision: 0.8300 - recall: 0.9205 - val_binary_accuracy: 0.8458 - val_f1_score: 0.4090 - val_loss: 0.4176 - val_precision: 0.6471 - val_recall: 0.8800\n",
            "Epoch 7/30\n",
            "\u001b[1m98/98\u001b[0m \u001b[32m━━━━━━━━━━━━━━━━━━━━\u001b[0m\u001b[37m\u001b[0m \u001b[1m0s\u001b[0m 3ms/step - binary_accuracy: 0.9309 - f1_score: 0.4273 - loss: 0.1586 - precision: 0.8263 - recall: 0.9449 - val_binary_accuracy: 0.8458 - val_f1_score: 0.4090 - val_loss: 0.3719 - val_precision: 0.6515 - val_recall: 0.8600\n",
            "Epoch 8/30\n",
            "\u001b[1m98/98\u001b[0m \u001b[32m━━━━━━━━━━━━━━━━━━━━\u001b[0m\u001b[37m\u001b[0m \u001b[1m0s\u001b[0m 3ms/step - binary_accuracy: 0.9433 - f1_score: 0.4317 - loss: 0.1360 - precision: 0.8523 - recall: 0.9599 - val_binary_accuracy: 0.8792 - val_f1_score: 0.4090 - val_loss: 0.3406 - val_precision: 0.7677 - val_recall: 0.7600\n",
            "Epoch 9/30\n",
            "\u001b[1m98/98\u001b[0m \u001b[32m━━━━━━━━━━━━━━━━━━━━\u001b[0m\u001b[37m\u001b[0m \u001b[1m0s\u001b[0m 3ms/step - binary_accuracy: 0.9523 - f1_score: 0.4347 - loss: 0.1077 - precision: 0.8717 - recall: 0.9723 - val_binary_accuracy: 0.8817 - val_f1_score: 0.4098 - val_loss: 0.3532 - val_precision: 0.8000 - val_recall: 0.7200\n",
            "Epoch 10/30\n",
            "\u001b[1m98/98\u001b[0m \u001b[32m━━━━━━━━━━━━━━━━━━━━\u001b[0m\u001b[37m\u001b[0m \u001b[1m0s\u001b[0m 3ms/step - binary_accuracy: 0.9481 - f1_score: 0.4378 - loss: 0.1166 - precision: 0.8627 - recall: 0.9692 - val_binary_accuracy: 0.8458 - val_f1_score: 0.4107 - val_loss: 0.4801 - val_precision: 0.6613 - val_recall: 0.8200\n",
            "Epoch 11/30\n",
            "\u001b[1m98/98\u001b[0m \u001b[32m━━━━━━━━━━━━━━━━━━━━\u001b[0m\u001b[37m\u001b[0m \u001b[1m0s\u001b[0m 3ms/step - binary_accuracy: 0.9425 - f1_score: 0.4316 - loss: 0.1128 - precision: 0.8446 - recall: 0.9717 - val_binary_accuracy: 0.8406 - val_f1_score: 0.4115 - val_loss: 0.4980 - val_precision: 0.6638 - val_recall: 0.7700\n",
            "Epoch 12/30\n",
            "\u001b[1m98/98\u001b[0m \u001b[32m━━━━━━━━━━━━━━━━━━━━\u001b[0m\u001b[37m\u001b[0m \u001b[1m0s\u001b[0m 3ms/step - binary_accuracy: 0.9621 - f1_score: 0.4463 - loss: 0.0800 - precision: 0.8987 - recall: 0.9776 - val_binary_accuracy: 0.8792 - val_f1_score: 0.4132 - val_loss: 0.4421 - val_precision: 0.7524 - val_recall: 0.7900\n",
            "Epoch 13/30\n",
            "\u001b[1m98/98\u001b[0m \u001b[32m━━━━━━━━━━━━━━━━━━━━\u001b[0m\u001b[37m\u001b[0m \u001b[1m0s\u001b[0m 3ms/step - binary_accuracy: 0.9588 - f1_score: 0.4319 - loss: 0.0760 - precision: 0.8797 - recall: 0.9841 - val_binary_accuracy: 0.8869 - val_f1_score: 0.4132 - val_loss: 0.4977 - val_precision: 0.7857 - val_recall: 0.7700\n",
            "Epoch 14/30\n",
            "\u001b[1m98/98\u001b[0m \u001b[32m━━━━━━━━━━━━━━━━━━━━\u001b[0m\u001b[37m\u001b[0m \u001b[1m0s\u001b[0m 3ms/step - binary_accuracy: 0.9734 - f1_score: 0.4367 - loss: 0.0612 - precision: 0.9231 - recall: 0.9866 - val_binary_accuracy: 0.8895 - val_f1_score: 0.4158 - val_loss: 0.4636 - val_precision: 0.7938 - val_recall: 0.7700\n",
            "Epoch 15/30\n",
            "\u001b[1m98/98\u001b[0m \u001b[32m━━━━━━━━━━━━━━━━━━━━\u001b[0m\u001b[37m\u001b[0m \u001b[1m0s\u001b[0m 3ms/step - binary_accuracy: 0.9775 - f1_score: 0.4312 - loss: 0.0360 - precision: 0.9264 - recall: 0.9957 - val_binary_accuracy: 0.8792 - val_f1_score: 0.4141 - val_loss: 0.5185 - val_precision: 0.7624 - val_recall: 0.7700\n",
            "Epoch 16/30\n",
            "\u001b[1m98/98\u001b[0m \u001b[32m━━━━━━━━━━━━━━━━━━━━\u001b[0m\u001b[37m\u001b[0m \u001b[1m0s\u001b[0m 3ms/step - binary_accuracy: 0.9852 - f1_score: 0.4337 - loss: 0.0265 - precision: 0.9493 - recall: 0.9986 - val_binary_accuracy: 0.8432 - val_f1_score: 0.4141 - val_loss: 0.5969 - val_precision: 0.6757 - val_recall: 0.7500\n",
            "Epoch 17/30\n",
            "\u001b[1m98/98\u001b[0m \u001b[32m━━━━━━━━━━━━━━━━━━━━\u001b[0m\u001b[37m\u001b[0m \u001b[1m0s\u001b[0m 3ms/step - binary_accuracy: 0.9779 - f1_score: 0.4231 - loss: 0.0542 - precision: 0.9365 - recall: 0.9836 - val_binary_accuracy: 0.8792 - val_f1_score: 0.4184 - val_loss: 0.6414 - val_precision: 0.7732 - val_recall: 0.7500\n",
            "Epoch 18/30\n",
            "\u001b[1m98/98\u001b[0m \u001b[32m━━━━━━━━━━━━━━━━━━━━\u001b[0m\u001b[37m\u001b[0m \u001b[1m0s\u001b[0m 3ms/step - binary_accuracy: 0.9827 - f1_score: 0.4393 - loss: 0.0341 - precision: 0.9479 - recall: 0.9913 - val_binary_accuracy: 0.8740 - val_f1_score: 0.4228 - val_loss: 0.5907 - val_precision: 0.7802 - val_recall: 0.7100\n",
            "Epoch 19/30\n",
            "\u001b[1m98/98\u001b[0m \u001b[32m━━━━━━━━━━━━━━━━━━━━\u001b[0m\u001b[37m\u001b[0m \u001b[1m0s\u001b[0m 3ms/step - binary_accuracy: 0.9902 - f1_score: 0.4528 - loss: 0.0242 - precision: 0.9720 - recall: 0.9943 - val_binary_accuracy: 0.8638 - val_f1_score: 0.4267 - val_loss: 0.6708 - val_precision: 0.7423 - val_recall: 0.7200\n",
            "Epoch 20/30\n",
            "\u001b[1m98/98\u001b[0m \u001b[32m━━━━━━━━━━━━━━━━━━━━\u001b[0m\u001b[37m\u001b[0m \u001b[1m0s\u001b[0m 3ms/step - binary_accuracy: 0.9919 - f1_score: 0.4521 - loss: 0.0185 - precision: 0.9738 - recall: 0.9978 - val_binary_accuracy: 0.8792 - val_f1_score: 0.4276 - val_loss: 0.6759 - val_precision: 0.7849 - val_recall: 0.7300\n",
            "Epoch 21/30\n",
            "\u001b[1m98/98\u001b[0m \u001b[32m━━━━━━━━━━━━━━━━━━━━\u001b[0m\u001b[37m\u001b[0m \u001b[1m0s\u001b[0m 3ms/step - binary_accuracy: 0.9984 - f1_score: 0.4727 - loss: 0.0080 - precision: 0.9945 - recall: 1.0000 - val_binary_accuracy: 0.8792 - val_f1_score: 0.4333 - val_loss: 0.6849 - val_precision: 0.7789 - val_recall: 0.7400\n",
            "Epoch 22/30\n",
            "\u001b[1m98/98\u001b[0m \u001b[32m━━━━━━━━━━━━━━━━━━━━\u001b[0m\u001b[37m\u001b[0m \u001b[1m0s\u001b[0m 3ms/step - binary_accuracy: 0.9989 - f1_score: 0.4496 - loss: 0.0050 - precision: 0.9960 - recall: 1.0000 - val_binary_accuracy: 0.8663 - val_f1_score: 0.4314 - val_loss: 0.7459 - val_precision: 0.7400 - val_recall: 0.7400\n",
            "Epoch 23/30\n",
            "\u001b[1m98/98\u001b[0m \u001b[32m━━━━━━━━━━━━━━━━━━━━\u001b[0m\u001b[37m\u001b[0m \u001b[1m0s\u001b[0m 3ms/step - binary_accuracy: 1.0000 - f1_score: 0.4620 - loss: 0.0024 - precision: 1.0000 - recall: 1.0000 - val_binary_accuracy: 0.8792 - val_f1_score: 0.4342 - val_loss: 0.7384 - val_precision: 0.7849 - val_recall: 0.7300\n",
            "Epoch 24/30\n",
            "\u001b[1m98/98\u001b[0m \u001b[32m━━━━━━━━━━━━━━━━━━━━\u001b[0m\u001b[37m\u001b[0m \u001b[1m0s\u001b[0m 3ms/step - binary_accuracy: 1.0000 - f1_score: 0.4663 - loss: 0.0013 - precision: 1.0000 - recall: 1.0000 - val_binary_accuracy: 0.8792 - val_f1_score: 0.4352 - val_loss: 0.7609 - val_precision: 0.7789 - val_recall: 0.7400\n",
            "Epoch 25/30\n",
            "\u001b[1m98/98\u001b[0m \u001b[32m━━━━━━━━━━━━━━━━━━━━\u001b[0m\u001b[37m\u001b[0m \u001b[1m0s\u001b[0m 3ms/step - binary_accuracy: 1.0000 - f1_score: 0.4695 - loss: 0.0011 - precision: 1.0000 - recall: 1.0000 - val_binary_accuracy: 0.8792 - val_f1_score: 0.4361 - val_loss: 0.7617 - val_precision: 0.7849 - val_recall: 0.7300\n",
            "Epoch 26/30\n",
            "\u001b[1m98/98\u001b[0m \u001b[32m━━━━━━━━━━━━━━━━━━━━\u001b[0m\u001b[37m\u001b[0m \u001b[1m0s\u001b[0m 3ms/step - binary_accuracy: 1.0000 - f1_score: 0.4777 - loss: 9.4496e-04 - precision: 1.0000 - recall: 1.0000 - val_binary_accuracy: 0.8792 - val_f1_score: 0.4371 - val_loss: 0.7716 - val_precision: 0.7849 - val_recall: 0.7300\n",
            "Epoch 27/30\n",
            "\u001b[1m98/98\u001b[0m \u001b[32m━━━━━━━━━━━━━━━━━━━━\u001b[0m\u001b[37m\u001b[0m \u001b[1m0s\u001b[0m 3ms/step - binary_accuracy: 1.0000 - f1_score: 0.4701 - loss: 7.6959e-04 - precision: 1.0000 - recall: 1.0000 - val_binary_accuracy: 0.8817 - val_f1_score: 0.4420 - val_loss: 0.7929 - val_precision: 0.8000 - val_recall: 0.7200\n",
            "Epoch 28/30\n",
            "\u001b[1m98/98\u001b[0m \u001b[32m━━━━━━━━━━━━━━━━━━━━\u001b[0m\u001b[37m\u001b[0m \u001b[1m0s\u001b[0m 3ms/step - binary_accuracy: 1.0000 - f1_score: 0.4699 - loss: 6.6828e-04 - precision: 1.0000 - recall: 1.0000 - val_binary_accuracy: 0.8766 - val_f1_score: 0.4410 - val_loss: 0.7950 - val_precision: 0.7708 - val_recall: 0.7400\n",
            "Epoch 29/30\n",
            "\u001b[1m98/98\u001b[0m \u001b[32m━━━━━━━━━━━━━━━━━━━━\u001b[0m\u001b[37m\u001b[0m \u001b[1m0s\u001b[0m 3ms/step - binary_accuracy: 1.0000 - f1_score: 0.4737 - loss: 5.6225e-04 - precision: 1.0000 - recall: 1.0000 - val_binary_accuracy: 0.8740 - val_f1_score: 0.4410 - val_loss: 0.8057 - val_precision: 0.7684 - val_recall: 0.7300\n",
            "Epoch 30/30\n",
            "\u001b[1m98/98\u001b[0m \u001b[32m━━━━━━━━━━━━━━━━━━━━\u001b[0m\u001b[37m\u001b[0m \u001b[1m0s\u001b[0m 3ms/step - binary_accuracy: 1.0000 - f1_score: 0.4726 - loss: 4.9575e-04 - precision: 1.0000 - recall: 1.0000 - val_binary_accuracy: 0.8792 - val_f1_score: 0.4439 - val_loss: 0.8172 - val_precision: 0.7912 - val_recall: 0.7200\n"
          ]
        }
      ]
    },
    {
      "cell_type": "code",
      "source": [
        "#plot loss\n",
        "plot_loss(history_cnn_baseline, 'Baseline CNN - Train/Val Loss')"
      ],
      "metadata": {
        "id": "3dxGDnSS14qf",
        "outputId": "f16b12b1-2fc8-4e81-e842-1ef2a3044cbd",
        "colab": {
          "base_uri": "https://localhost:8080/",
          "height": 472
        }
      },
      "execution_count": 21,
      "outputs": [
        {
          "output_type": "display_data",
          "data": {
            "text/plain": [
              "<Figure size 640x480 with 1 Axes>"
            ],
            "image/png": "[encoded data removed]"
          },
          "metadata": {}
        }
      ]
    },
    {
      "cell_type": "markdown",
      "source": [
        "### Experiment 1: Deeper Model with Regularization"
      ],
      "metadata": {
        "id": "CvVtfr_JRAkv"
      }
    },
    {
      "cell_type": "code",
      "source": [
        "# setup checkpoint\n",
        "checkpoint_filepath = '/content/drive/MyDrive/Datasets/sepsis/models/cnn-e1.keras'\n",
        "model_checkpoint_callback_c1 = keras.callbacks.ModelCheckpoint(\n",
        "    filepath=checkpoint_filepath,\n",
        "    monitor='val_loss',\n",
        "    mode='min',\n",
        "    save_best_only=True)\n",
        "\n",
        "cnn_e1 = tf.keras.Sequential([\n",
        "\n",
        "  tf.keras.layers.Input(shape=X_train.shape[1:]),\n",
        "  tf.keras.layers.Normalization(axis=None),\n",
        "\n",
        "  tf.keras.layers.Conv1D(512, kernel_size=3, activation='relu', padding='causal'),\n",
        "  tf.keras.layers.Dropout(0.3),\n",
        "  tf.keras.layers.MaxPooling1D(2),\n",
        "\n",
        "  tf.keras.layers.Conv1D(512, kernel_size=3, activation='relu', padding='causal'),\n",
        "  tf.keras.layers.Dropout(0.3),\n",
        "  tf.keras.layers.MaxPooling1D(2),\n",
        "\n",
        "  tf.keras.layers.Conv1D(256, kernel_size=3, activation='relu', padding='causal', kernel_regularizer = tf.keras.regularizers.l1(0.01)),\n",
        "  tf.keras.layers.Dropout(0.3),\n",
        "  tf.keras.layers.MaxPooling1D(2),\n",
        "\n",
        "  tf.keras.layers.Conv1D(256, kernel_size=3, activation='relu', padding='causal', kernel_regularizer = tf.keras.regularizers.l1(0.01)),\n",
        "  tf.keras.layers.Dropout(0.3),\n",
        "  tf.keras.layers.MaxPooling1D(2),\n",
        "\n",
        "  tf.keras.layers.Flatten(),\n",
        "\n",
        "  tf.keras.layers.Dense(256, activation='relu'),\n",
        "  tf.keras.layers.Dropout(0.2),\n",
        "  tf.keras.layers.Dense(256, activation='relu'),\n",
        "  tf.keras.layers.Dropout(0.2),\n",
        "  tf.keras.layers.Dense(1, activation='sigmoid')\n",
        "])"
      ],
      "metadata": {
        "id": "N5GRh2_gRE2R"
      },
      "execution_count": 15,
      "outputs": []
    },
    {
      "cell_type": "code",
      "source": [
        "cnn_e1.summary()"
      ],
      "metadata": {
        "colab": {
          "base_uri": "https://localhost:8080/",
          "height": 737
        },
        "id": "6YZ8k2r9UiMF",
        "outputId": "7c969cd7-37bd-4486-96fb-80b0ca98d4f4"
      },
      "execution_count": 16,
      "outputs": [
        {
          "output_type": "display_data",
          "data": {
            "text/plain": [
              "\u001b[1mModel: \"sequential_1\"\u001b[0m\n"
            ],
            "text/html": [
              "<pre style=\"white-space:pre;overflow-x:auto;line-height:normal;font-family:Menlo,'DejaVu Sans Mono',consolas,'Courier New',monospace\"><span style=\"font-weight: bold\">Model: \"sequential_1\"</span>\n",
              "</pre>\n"
            ]
          },
          "metadata": {}
        },
        {
          "output_type": "display_data",
          "data": {
            "text/plain": [
              "┏━━━━━━━━━━━━━━━━━━━━━━━━━━━━━━━━━━━━━━┳━━━━━━━━━━━━━━━━━━━━━━━━━━━━━┳━━━━━━━━━━━━━━━━━┓\n",
              "┃\u001b[1m \u001b[0m\u001b[1mLayer (type)                        \u001b[0m\u001b[1m \u001b[0m┃\u001b[1m \u001b[0m\u001b[1mOutput Shape               \u001b[0m\u001b[1m \u001b[0m┃\u001b[1m \u001b[0m\u001b[1m        Param #\u001b[0m\u001b[1m \u001b[0m┃\n",
              "┡━━━━━━━━━━━━━━━━━━━━━━━━━━━━━━━━━━━━━━╇━━━━━━━━━━━━━━━━━━━━━━━━━━━━━╇━━━━━━━━━━━━━━━━━┩\n",
              "│ normalization (\u001b[38;5;33mNormalization\u001b[0m)        │ (\u001b[38;5;45mNone\u001b[0m, \u001b[38;5;34m48\u001b[0m, \u001b[38;5;34m56\u001b[0m)              │               \u001b[38;5;34m3\u001b[0m │\n",
              "├──────────────────────────────────────┼─────────────────────────────┼─────────────────┤\n",
              "│ conv1d_1 (\u001b[38;5;33mConv1D\u001b[0m)                    │ (\u001b[38;5;45mNone\u001b[0m, \u001b[38;5;34m48\u001b[0m, \u001b[38;5;34m512\u001b[0m)             │          \u001b[38;5;34m86,528\u001b[0m │\n",
              "├──────────────────────────────────────┼─────────────────────────────┼─────────────────┤\n",
              "│ dropout (\u001b[38;5;33mDropout\u001b[0m)                    │ (\u001b[38;5;45mNone\u001b[0m, \u001b[38;5;34m48\u001b[0m, \u001b[38;5;34m512\u001b[0m)             │               \u001b[38;5;34m0\u001b[0m │\n",
              "├──────────────────────────────────────┼─────────────────────────────┼─────────────────┤\n",
              "│ max_pooling1d_1 (\u001b[38;5;33mMaxPooling1D\u001b[0m)       │ (\u001b[38;5;45mNone\u001b[0m, \u001b[38;5;34m24\u001b[0m, \u001b[38;5;34m512\u001b[0m)             │               \u001b[38;5;34m0\u001b[0m │\n",
              "├──────────────────────────────────────┼─────────────────────────────┼─────────────────┤\n",
              "│ conv1d_2 (\u001b[38;5;33mConv1D\u001b[0m)                    │ (\u001b[38;5;45mNone\u001b[0m, \u001b[38;5;34m24\u001b[0m, \u001b[38;5;34m512\u001b[0m)             │         \u001b[38;5;34m786,944\u001b[0m │\n",
              "├──────────────────────────────────────┼─────────────────────────────┼─────────────────┤\n",
              "│ dropout_1 (\u001b[38;5;33mDropout\u001b[0m)                  │ (\u001b[38;5;45mNone\u001b[0m, \u001b[38;5;34m24\u001b[0m, \u001b[38;5;34m512\u001b[0m)             │               \u001b[38;5;34m0\u001b[0m │\n",
              "├──────────────────────────────────────┼─────────────────────────────┼─────────────────┤\n",
              "│ max_pooling1d_2 (\u001b[38;5;33mMaxPooling1D\u001b[0m)       │ (\u001b[38;5;45mNone\u001b[0m, \u001b[38;5;34m12\u001b[0m, \u001b[38;5;34m512\u001b[0m)             │               \u001b[38;5;34m0\u001b[0m │\n",
              "├──────────────────────────────────────┼─────────────────────────────┼─────────────────┤\n",
              "│ conv1d_3 (\u001b[38;5;33mConv1D\u001b[0m)                    │ (\u001b[38;5;45mNone\u001b[0m, \u001b[38;5;34m12\u001b[0m, \u001b[38;5;34m256\u001b[0m)             │         \u001b[38;5;34m393,472\u001b[0m │\n",
              "├──────────────────────────────────────┼─────────────────────────────┼─────────────────┤\n",
              "│ dropout_2 (\u001b[38;5;33mDropout\u001b[0m)                  │ (\u001b[38;5;45mNone\u001b[0m, \u001b[38;5;34m12\u001b[0m, \u001b[38;5;34m256\u001b[0m)             │               \u001b[38;5;34m0\u001b[0m │\n",
              "├──────────────────────────────────────┼─────────────────────────────┼─────────────────┤\n",
              "│ max_pooling1d_3 (\u001b[38;5;33mMaxPooling1D\u001b[0m)       │ (\u001b[38;5;45mNone\u001b[0m, \u001b[38;5;34m6\u001b[0m, \u001b[38;5;34m256\u001b[0m)              │               \u001b[38;5;34m0\u001b[0m │\n",
              "├──────────────────────────────────────┼─────────────────────────────┼─────────────────┤\n",
              "│ conv1d_4 (\u001b[38;5;33mConv1D\u001b[0m)                    │ (\u001b[38;5;45mNone\u001b[0m, \u001b[38;5;34m6\u001b[0m, \u001b[38;5;34m256\u001b[0m)              │         \u001b[38;5;34m196,864\u001b[0m │\n",
              "├──────────────────────────────────────┼─────────────────────────────┼─────────────────┤\n",
              "│ dropout_3 (\u001b[38;5;33mDropout\u001b[0m)                  │ (\u001b[38;5;45mNone\u001b[0m, \u001b[38;5;34m6\u001b[0m, \u001b[38;5;34m256\u001b[0m)              │               \u001b[38;5;34m0\u001b[0m │\n",
              "├──────────────────────────────────────┼─────────────────────────────┼─────────────────┤\n",
              "│ max_pooling1d_4 (\u001b[38;5;33mMaxPooling1D\u001b[0m)       │ (\u001b[38;5;45mNone\u001b[0m, \u001b[38;5;34m3\u001b[0m, \u001b[38;5;34m256\u001b[0m)              │               \u001b[38;5;34m0\u001b[0m │\n",
              "├──────────────────────────────────────┼─────────────────────────────┼─────────────────┤\n",
              "│ flatten_1 (\u001b[38;5;33mFlatten\u001b[0m)                  │ (\u001b[38;5;45mNone\u001b[0m, \u001b[38;5;34m768\u001b[0m)                 │               \u001b[38;5;34m0\u001b[0m │\n",
              "├──────────────────────────────────────┼─────────────────────────────┼─────────────────┤\n",
              "│ dense_2 (\u001b[38;5;33mDense\u001b[0m)                      │ (\u001b[38;5;45mNone\u001b[0m, \u001b[38;5;34m256\u001b[0m)                 │         \u001b[38;5;34m196,864\u001b[0m │\n",
              "├──────────────────────────────────────┼─────────────────────────────┼─────────────────┤\n",
              "│ dropout_4 (\u001b[38;5;33mDropout\u001b[0m)                  │ (\u001b[38;5;45mNone\u001b[0m, \u001b[38;5;34m256\u001b[0m)                 │               \u001b[38;5;34m0\u001b[0m │\n",
              "├──────────────────────────────────────┼─────────────────────────────┼─────────────────┤\n",
              "│ dense_3 (\u001b[38;5;33mDense\u001b[0m)                      │ (\u001b[38;5;45mNone\u001b[0m, \u001b[38;5;34m256\u001b[0m)                 │          \u001b[38;5;34m65,792\u001b[0m │\n",
              "├──────────────────────────────────────┼─────────────────────────────┼─────────────────┤\n",
              "│ dropout_5 (\u001b[38;5;33mDropout\u001b[0m)                  │ (\u001b[38;5;45mNone\u001b[0m, \u001b[38;5;34m256\u001b[0m)                 │               \u001b[38;5;34m0\u001b[0m │\n",
              "├──────────────────────────────────────┼─────────────────────────────┼─────────────────┤\n",
              "│ dense_4 (\u001b[38;5;33mDense\u001b[0m)                      │ (\u001b[38;5;45mNone\u001b[0m, \u001b[38;5;34m1\u001b[0m)                   │             \u001b[38;5;34m257\u001b[0m │\n",
              "└──────────────────────────────────────┴─────────────────────────────┴─────────────────┘\n"
            ],
            "text/html": [
              "<pre style=\"white-space:pre;overflow-x:auto;line-height:normal;font-family:Menlo,'DejaVu Sans Mono',consolas,'Courier New',monospace\">┏━━━━━━━━━━━━━━━━━━━━━━━━━━━━━━━━━━━━━━┳━━━━━━━━━━━━━━━━━━━━━━━━━━━━━┳━━━━━━━━━━━━━━━━━┓\n",
              "┃<span style=\"font-weight: bold\"> Layer (type)                         </span>┃<span style=\"font-weight: bold\"> Output Shape                </span>┃<span style=\"font-weight: bold\">         Param # </span>┃\n",
              "┡━━━━━━━━━━━━━━━━━━━━━━━━━━━━━━━━━━━━━━╇━━━━━━━━━━━━━━━━━━━━━━━━━━━━━╇━━━━━━━━━━━━━━━━━┩\n",
              "│ normalization (<span style=\"color: #0087ff; text-decoration-color: #0087ff\">Normalization</span>)        │ (<span style=\"color: #00d7ff; text-decoration-color: #00d7ff\">None</span>, <span style=\"color: #00af00; text-decoration-color: #00af00\">48</span>, <span style=\"color: #00af00; text-decoration-color: #00af00\">56</span>)              │               <span style=\"color: #00af00; text-decoration-color: #00af00\">3</span> │\n",
              "├──────────────────────────────────────┼─────────────────────────────┼─────────────────┤\n",
              "│ conv1d_1 (<span style=\"color: #0087ff; text-decoration-color: #0087ff\">Conv1D</span>)                    │ (<span style=\"color: #00d7ff; text-decoration-color: #00d7ff\">None</span>, <span style=\"color: #00af00; text-decoration-color: #00af00\">48</span>, <span style=\"color: #00af00; text-decoration-color: #00af00\">512</span>)             │          <span style=\"color: #00af00; text-decoration-color: #00af00\">86,528</span> │\n",
              "├──────────────────────────────────────┼─────────────────────────────┼─────────────────┤\n",
              "│ dropout (<span style=\"color: #0087ff; text-decoration-color: #0087ff\">Dropout</span>)                    │ (<span style=\"color: #00d7ff; text-decoration-color: #00d7ff\">None</span>, <span style=\"color: #00af00; text-decoration-color: #00af00\">48</span>, <span style=\"color: #00af00; text-decoration-color: #00af00\">512</span>)             │               <span style=\"color: #00af00; text-decoration-color: #00af00\">0</span> │\n",
              "├──────────────────────────────────────┼─────────────────────────────┼─────────────────┤\n",
              "│ max_pooling1d_1 (<span style=\"color: #0087ff; text-decoration-color: #0087ff\">MaxPooling1D</span>)       │ (<span style=\"color: #00d7ff; text-decoration-color: #00d7ff\">None</span>, <span style=\"color: #00af00; text-decoration-color: #00af00\">24</span>, <span style=\"color: #00af00; text-decoration-color: #00af00\">512</span>)             │               <span style=\"color: #00af00; text-decoration-color: #00af00\">0</span> │\n",
              "├──────────────────────────────────────┼─────────────────────────────┼─────────────────┤\n",
              "│ conv1d_2 (<span style=\"color: #0087ff; text-decoration-color: #0087ff\">Conv1D</span>)                    │ (<span style=\"color: #00d7ff; text-decoration-color: #00d7ff\">None</span>, <span style=\"color: #00af00; text-decoration-color: #00af00\">24</span>, <span style=\"color: #00af00; text-decoration-color: #00af00\">512</span>)             │         <span style=\"color: #00af00; text-decoration-color: #00af00\">786,944</span> │\n",
              "├──────────────────────────────────────┼─────────────────────────────┼─────────────────┤\n",
              "│ dropout_1 (<span style=\"color: #0087ff; text-decoration-color: #0087ff\">Dropout</span>)                  │ (<span style=\"color: #00d7ff; text-decoration-color: #00d7ff\">None</span>, <span style=\"color: #00af00; text-decoration-color: #00af00\">24</span>, <span style=\"color: #00af00; text-decoration-color: #00af00\">512</span>)             │               <span style=\"color: #00af00; text-decoration-color: #00af00\">0</span> │\n",
              "├──────────────────────────────────────┼─────────────────────────────┼─────────────────┤\n",
              "│ max_pooling1d_2 (<span style=\"color: #0087ff; text-decoration-color: #0087ff\">MaxPooling1D</span>)       │ (<span style=\"color: #00d7ff; text-decoration-color: #00d7ff\">None</span>, <span style=\"color: #00af00; text-decoration-color: #00af00\">12</span>, <span style=\"color: #00af00; text-decoration-color: #00af00\">512</span>)             │               <span style=\"color: #00af00; text-decoration-color: #00af00\">0</span> │\n",
              "├──────────────────────────────────────┼─────────────────────────────┼─────────────────┤\n",
              "│ conv1d_3 (<span style=\"color: #0087ff; text-decoration-color: #0087ff\">Conv1D</span>)                    │ (<span style=\"color: #00d7ff; text-decoration-color: #00d7ff\">None</span>, <span style=\"color: #00af00; text-decoration-color: #00af00\">12</span>, <span style=\"color: #00af00; text-decoration-color: #00af00\">256</span>)             │         <span style=\"color: #00af00; text-decoration-color: #00af00\">393,472</span> │\n",
              "├──────────────────────────────────────┼─────────────────────────────┼─────────────────┤\n",
              "│ dropout_2 (<span style=\"color: #0087ff; text-decoration-color: #0087ff\">Dropout</span>)                  │ (<span style=\"color: #00d7ff; text-decoration-color: #00d7ff\">None</span>, <span style=\"color: #00af00; text-decoration-color: #00af00\">12</span>, <span style=\"color: #00af00; text-decoration-color: #00af00\">256</span>)             │               <span style=\"color: #00af00; text-decoration-color: #00af00\">0</span> │\n",
              "├──────────────────────────────────────┼─────────────────────────────┼─────────────────┤\n",
              "│ max_pooling1d_3 (<span style=\"color: #0087ff; text-decoration-color: #0087ff\">MaxPooling1D</span>)       │ (<span style=\"color: #00d7ff; text-decoration-color: #00d7ff\">None</span>, <span style=\"color: #00af00; text-decoration-color: #00af00\">6</span>, <span style=\"color: #00af00; text-decoration-color: #00af00\">256</span>)              │               <span style=\"color: #00af00; text-decoration-color: #00af00\">0</span> │\n",
              "├──────────────────────────────────────┼─────────────────────────────┼─────────────────┤\n",
              "│ conv1d_4 (<span style=\"color: #0087ff; text-decoration-color: #0087ff\">Conv1D</span>)                    │ (<span style=\"color: #00d7ff; text-decoration-color: #00d7ff\">None</span>, <span style=\"color: #00af00; text-decoration-color: #00af00\">6</span>, <span style=\"color: #00af00; text-decoration-color: #00af00\">256</span>)              │         <span style=\"color: #00af00; text-decoration-color: #00af00\">196,864</span> │\n",
              "├──────────────────────────────────────┼─────────────────────────────┼─────────────────┤\n",
              "│ dropout_3 (<span style=\"color: #0087ff; text-decoration-color: #0087ff\">Dropout</span>)                  │ (<span style=\"color: #00d7ff; text-decoration-color: #00d7ff\">None</span>, <span style=\"color: #00af00; text-decoration-color: #00af00\">6</span>, <span style=\"color: #00af00; text-decoration-color: #00af00\">256</span>)              │               <span style=\"color: #00af00; text-decoration-color: #00af00\">0</span> │\n",
              "├──────────────────────────────────────┼─────────────────────────────┼─────────────────┤\n",
              "│ max_pooling1d_4 (<span style=\"color: #0087ff; text-decoration-color: #0087ff\">MaxPooling1D</span>)       │ (<span style=\"color: #00d7ff; text-decoration-color: #00d7ff\">None</span>, <span style=\"color: #00af00; text-decoration-color: #00af00\">3</span>, <span style=\"color: #00af00; text-decoration-color: #00af00\">256</span>)              │               <span style=\"color: #00af00; text-decoration-color: #00af00\">0</span> │\n",
              "├──────────────────────────────────────┼─────────────────────────────┼─────────────────┤\n",
              "│ flatten_1 (<span style=\"color: #0087ff; text-decoration-color: #0087ff\">Flatten</span>)                  │ (<span style=\"color: #00d7ff; text-decoration-color: #00d7ff\">None</span>, <span style=\"color: #00af00; text-decoration-color: #00af00\">768</span>)                 │               <span style=\"color: #00af00; text-decoration-color: #00af00\">0</span> │\n",
              "├──────────────────────────────────────┼─────────────────────────────┼─────────────────┤\n",
              "│ dense_2 (<span style=\"color: #0087ff; text-decoration-color: #0087ff\">Dense</span>)                      │ (<span style=\"color: #00d7ff; text-decoration-color: #00d7ff\">None</span>, <span style=\"color: #00af00; text-decoration-color: #00af00\">256</span>)                 │         <span style=\"color: #00af00; text-decoration-color: #00af00\">196,864</span> │\n",
              "├──────────────────────────────────────┼─────────────────────────────┼─────────────────┤\n",
              "│ dropout_4 (<span style=\"color: #0087ff; text-decoration-color: #0087ff\">Dropout</span>)                  │ (<span style=\"color: #00d7ff; text-decoration-color: #00d7ff\">None</span>, <span style=\"color: #00af00; text-decoration-color: #00af00\">256</span>)                 │               <span style=\"color: #00af00; text-decoration-color: #00af00\">0</span> │\n",
              "├──────────────────────────────────────┼─────────────────────────────┼─────────────────┤\n",
              "│ dense_3 (<span style=\"color: #0087ff; text-decoration-color: #0087ff\">Dense</span>)                      │ (<span style=\"color: #00d7ff; text-decoration-color: #00d7ff\">None</span>, <span style=\"color: #00af00; text-decoration-color: #00af00\">256</span>)                 │          <span style=\"color: #00af00; text-decoration-color: #00af00\">65,792</span> │\n",
              "├──────────────────────────────────────┼─────────────────────────────┼─────────────────┤\n",
              "│ dropout_5 (<span style=\"color: #0087ff; text-decoration-color: #0087ff\">Dropout</span>)                  │ (<span style=\"color: #00d7ff; text-decoration-color: #00d7ff\">None</span>, <span style=\"color: #00af00; text-decoration-color: #00af00\">256</span>)                 │               <span style=\"color: #00af00; text-decoration-color: #00af00\">0</span> │\n",
              "├──────────────────────────────────────┼─────────────────────────────┼─────────────────┤\n",
              "│ dense_4 (<span style=\"color: #0087ff; text-decoration-color: #0087ff\">Dense</span>)                      │ (<span style=\"color: #00d7ff; text-decoration-color: #00d7ff\">None</span>, <span style=\"color: #00af00; text-decoration-color: #00af00\">1</span>)                   │             <span style=\"color: #00af00; text-decoration-color: #00af00\">257</span> │\n",
              "└──────────────────────────────────────┴─────────────────────────────┴─────────────────┘\n",
              "</pre>\n"
            ]
          },
          "metadata": {}
        },
        {
          "output_type": "display_data",
          "data": {
            "text/plain": [
              "\u001b[1m Total params: \u001b[0m\u001b[38;5;34m1,726,724\u001b[0m (6.59 MB)\n"
            ],
            "text/html": [
              "<pre style=\"white-space:pre;overflow-x:auto;line-height:normal;font-family:Menlo,'DejaVu Sans Mono',consolas,'Courier New',monospace\"><span style=\"font-weight: bold\"> Total params: </span><span style=\"color: #00af00; text-decoration-color: #00af00\">1,726,724</span> (6.59 MB)\n",
              "</pre>\n"
            ]
          },
          "metadata": {}
        },
        {
          "output_type": "display_data",
          "data": {
            "text/plain": [
              "\u001b[1m Trainable params: \u001b[0m\u001b[38;5;34m1,726,721\u001b[0m (6.59 MB)\n"
            ],
            "text/html": [
              "<pre style=\"white-space:pre;overflow-x:auto;line-height:normal;font-family:Menlo,'DejaVu Sans Mono',consolas,'Courier New',monospace\"><span style=\"font-weight: bold\"> Trainable params: </span><span style=\"color: #00af00; text-decoration-color: #00af00\">1,726,721</span> (6.59 MB)\n",
              "</pre>\n"
            ]
          },
          "metadata": {}
        },
        {
          "output_type": "display_data",
          "data": {
            "text/plain": [
              "\u001b[1m Non-trainable params: \u001b[0m\u001b[38;5;34m3\u001b[0m (16.00 B)\n"
            ],
            "text/html": [
              "<pre style=\"white-space:pre;overflow-x:auto;line-height:normal;font-family:Menlo,'DejaVu Sans Mono',consolas,'Courier New',monospace\"><span style=\"font-weight: bold\"> Non-trainable params: </span><span style=\"color: #00af00; text-decoration-color: #00af00\">3</span> (16.00 B)\n",
              "</pre>\n"
            ]
          },
          "metadata": {}
        }
      ]
    },
    {
      "cell_type": "code",
      "source": [
        "# Train the model\n",
        "history_cnn_e1 = compile_and_train_adam(cnn_e1, model_checkpoint_callback_c1)"
      ],
      "metadata": {
        "id": "mw7rW2TSSDu7"
      },
      "execution_count": null,
      "outputs": []
    },
    {
      "cell_type": "code",
      "source": [
        "#plot loss\n",
        "plot_loss(history_cnn_e1, 'CNN e1 - Train/Val Loss')"
      ],
      "metadata": {
        "id": "nnYS4XDE3irU",
        "outputId": "ee31840d-7561-4d8d-c3f7-4d0e47f1547c",
        "colab": {
          "base_uri": "https://localhost:8080/",
          "height": 472
        }
      },
      "execution_count": 22,
      "outputs": [
        {
          "output_type": "display_data",
          "data": {
            "text/plain": [
              "<Figure size 640x480 with 1 Axes>"
            ],
            "image/png": "[encoded data removed]"
          },
          "metadata": {}
        }
      ]
    },
    {
      "cell_type": "code",
      "source": [
        "# load best checkpoint\n",
        "cnn_e1_best = tf.keras.models.load_model('/content/drive/MyDrive/Datasets/sepsis/models/cnn-e1.keras')"
      ],
      "metadata": {
        "id": "jbDyhXfVGNkF"
      },
      "execution_count": 18,
      "outputs": []
    },
    {
      "cell_type": "code",
      "source": [
        "predict_and_plot_confusion(cnn_e1_best, \"Confusion Matrix - CNN e1\")"
      ],
      "metadata": {
        "colab": {
          "base_uri": "https://localhost:8080/",
          "height": 489
        },
        "id": "8-wexu1rTywH",
        "outputId": "2e80b442-a10a-46fe-d43e-d1dd949c45f4"
      },
      "execution_count": 19,
      "outputs": [
        {
          "output_type": "stream",
          "name": "stdout",
          "text": [
            "\u001b[1m13/13\u001b[0m \u001b[32m━━━━━━━━━━━━━━━━━━━━\u001b[0m\u001b[37m\u001b[0m \u001b[1m1s\u001b[0m 29ms/step\n"
          ]
        },
        {
          "output_type": "display_data",
          "data": {
            "text/plain": [
              "<Figure size 640x480 with 2 Axes>"
            ],
            "image/png": "[encoded data removed]"
          },
          "metadata": {}
        }
      ]
    },
    {
      "cell_type": "code",
      "source": [],
      "metadata": {
        "id": "Ox3LyshID296"
      },
      "execution_count": null,
      "outputs": []
    }
  ],
  "metadata": {
    "language_info": {
      "name": "python"
    },
    "colab": {
      "provenance": [],
      "machine_shape": "hm",
      "gpuType": "T4"
    },
    "accelerator": "GPU",
    "kernelspec": {
      "name": "python3",
      "display_name": "Python 3"
    }
  },
  "nbformat": 4,
  "nbformat_minor": 0
}