{
 "cells": [
  {
   "cell_type": "markdown",
   "metadata": {},
   "source": [
    "## Part IV.1: Experiments with CNN Model Architecture\n",
    "\n",
    "In this section, experiments and tuning exercises will be conducted using CNN foundational model architecture.  This will include the following:\n",
    "\n",
    "1.  Experiments with different CNN model architectures (number of conv layers, etc.)\n",
    "2.  Experiments with regularization methods (if necessary) including dropout layers, batch normalization, etc.\n",
    "3.  Hyperparameter tuning/optimization"
   ]
  },
  {
   "cell_type": "code",
   "execution_count": null,
   "metadata": {},
   "outputs": [],
   "source": []
  }
 ],
 "metadata": {
  "language_info": {
   "name": "python"
  }
 },
 "nbformat": 4,
 "nbformat_minor": 2
}
