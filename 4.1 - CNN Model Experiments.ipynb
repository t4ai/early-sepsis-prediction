{
  "cells": [
    {
      "cell_type": "markdown",
      "metadata": {
        "id": "CGKe9BrCu5HL"
      },
      "source": [
        "## Part IV.1: Experiments with CNN Model Architecture\n",
        "\n",
        "In this section, experiments and tuning exercises will be conducted using CNN foundational model architecture.  This will include the following:\n",
        "\n",
        "1.  Experiments with different CNN model architectures (number of conv layers, etc.)\n",
        "2.  Experiments with regularization methods (if necessary) including dropout layers, batch normalization, etc.\n",
        "3.  Hyperparameter tuning/optimization"
      ]
    },
    {
      "cell_type": "code",
      "source": [
        "import time\n",
        "import pandas as pd\n",
        "import numpy as np\n",
        "import os\n",
        "import matplotlib.pyplot as plt\n",
        "import seaborn as sns\n",
        "\n",
        "import tensorflow as tf\n",
        "from tensorflow import keras\n",
        "from sklearn import preprocessing\n",
        "from sklearn.metrics import mean_absolute_error, root_mean_squared_error"
      ],
      "metadata": {
        "id": "fRkzFJb3yC1y"
      },
      "execution_count": 9,
      "outputs": []
    },
    {
      "cell_type": "markdown",
      "source": [
        "### Load Prepared Datasets"
      ],
      "metadata": {
        "id": "hely7yMjy2qO"
      }
    },
    {
      "cell_type": "code",
      "source": [
        "LOAD_FROM_GDRIVE = True"
      ],
      "metadata": {
        "id": "oJdQDTAZwqJ1"
      },
      "execution_count": 4,
      "outputs": []
    },
    {
      "cell_type": "code",
      "execution_count": 6,
      "metadata": {
        "id": "fGy9zhzeu5HN",
        "outputId": "22da8782-eeb8-4d29-b9ce-34d24d8fc50c",
        "colab": {
          "base_uri": "https://localhost:8080/"
        }
      },
      "outputs": [
        {
          "output_type": "stream",
          "name": "stdout",
          "text": [
            "Drive already mounted at /content/drive; to attempt to forcibly remount, call drive.mount(\"/content/drive\", force_remount=True).\n"
          ]
        }
      ],
      "source": [
        "if(LOAD_FROM_GDRIVE):\n",
        "    # mount google drive to load data\n",
        "    from google.colab import drive\n",
        "    drive.mount('/content/drive')\n",
        "\n",
        "    dataset_root = '/content/drive/MyDrive/Datasets/sepsis/prepared'\n",
        "\n",
        "    X_train = np.load(os.path.join(dataset_root, 'X_train.npy'))\n",
        "    y_train = np.load(os.path.join(dataset_root, 'y_train.npy'))\n",
        "\n",
        "    X_test = np.load(os.path.join(dataset_root, 'X_test.npy'))\n",
        "    y_test = np.load(os.path.join(dataset_root, 'y_test.npy'))\n",
        "\n",
        "    X_val =  np.load(os.path.join(dataset_root, 'X_val.npy'))\n",
        "    y_val = np.load(os.path.join(dataset_root, 'y_val.npy'))\n",
        "\n",
        "else:\n",
        "    # load from datalake (S3)\n",
        "    !aws s3 cp $s3_datalake_path_prepared $local_data_path_csv --recursive --exclude \"*\" --include \"*.npy\"\n",
        "\n",
        "    X_train = np.load(os.path.join(local_data_path_csv, 'X_train.npy'))\n",
        "    y_train = np.load(os.path.join(local_data_path_csv, 'y_train.npy'))\n",
        "\n",
        "    X_test = np.load(os.path.join(local_data_path_csv, 'X_test.npy'))\n",
        "    y_test = np.load(os.path.join(local_data_path_csv, 'y_test.npy'))\n",
        "\n",
        "    X_val =  np.load(os.path.join(local_data_path_csv, 'X_val.npy'))\n",
        "    y_val = np.load(os.path.join(local_data_path_csv, 'y_val.npy'))"
      ]
    },
    {
      "cell_type": "code",
      "source": [
        "# inspect the loaded data\n",
        "print(f\"Train data shape: X: {X_train.shape}, y: {y_train.shape}\")\n",
        "print(f\"Test data shape: X: {X_test.shape}, y: {y_test.shape}\")\n",
        "print(f\"Validation data shape: X: {X_val.shape}, y: {y_val.shape}\")"
      ],
      "metadata": {
        "id": "7T0oG6Skx6hQ",
        "outputId": "425babda-88da-4fe3-fbe4-f12df0159674",
        "colab": {
          "base_uri": "https://localhost:8080/"
        }
      },
      "execution_count": 7,
      "outputs": [
        {
          "output_type": "stream",
          "name": "stdout",
          "text": [
            "Train data shape: X: (19524, 24, 32), y: (19524,)\n",
            "Test data shape: X: (2440, 24, 32), y: (2440,)\n",
            "Validation data shape: X: (2441, 24, 32), y: (2441,)\n"
          ]
        }
      ]
    },
    {
      "cell_type": "code",
      "source": [
        "# refactor targets to work for modeling\n",
        "y_train = y_train.reshape(-1,1)\n",
        "y_test = y_test.reshape(-1,1)\n",
        "y_val = y_val.reshape(-1,1)"
      ],
      "metadata": {
        "id": "B_3ir_DC25eE"
      },
      "execution_count": 20,
      "outputs": []
    },
    {
      "cell_type": "code",
      "source": [
        "# global default training parameters\n",
        "NUM_EPOCHS = 75\n",
        "BATCH_SIZE = 32\n",
        "LEARNING_RATE = 0.001"
      ],
      "metadata": {
        "id": "cTJ5cSpm1OGr"
      },
      "execution_count": 10,
      "outputs": []
    },
    {
      "cell_type": "markdown",
      "source": [
        "### Experiment 1: Baseline CNN Model"
      ],
      "metadata": {
        "id": "lftv0GSDy8w9"
      }
    },
    {
      "cell_type": "code",
      "source": [
        "# setup checkpoint\n",
        "checkpoint_filepath = '/content/drive/MyDrive/Datasets/sepsis/models/cnn-1.keras'\n",
        "model_checkpoint_callback = keras.callbacks.ModelCheckpoint(\n",
        "    filepath=checkpoint_filepath,\n",
        "    monitor='val_binary_accuracy',\n",
        "    mode='max',\n",
        "    save_best_only=True)\n",
        "\n",
        "cnn_baseline = tf.keras.Sequential([\n",
        "\n",
        "  tf.keras.layers.Input(shape=X_train.shape[1:]),\n",
        "\n",
        "  tf.keras.layers.Conv1D(256, kernel_size=3, activation='relu'),\n",
        "  tf.keras.layers.MaxPooling1D(2),\n",
        "\n",
        "  tf.keras.layers.Flatten(),\n",
        "\n",
        "  tf.keras.layers.Dense(64, activation='relu'),\n",
        "  tf.keras.layers.Dense(1, activation='sigmoid')\n",
        "])\n",
        "\n",
        "# Compile the model\n",
        "cnn_baseline.compile(\n",
        "    optimizer=keras.optimizers.Adam(learning_rate=LEARNING_RATE),\n",
        "    loss=tf.keras.losses.BinaryCrossentropy(),\n",
        "    metrics=[keras.metrics.BinaryAccuracy(), keras.metrics.Precision(), keras.metrics.Recall(), keras.metrics.F1Score()]\n",
        ")"
      ],
      "metadata": {
        "id": "pBeKHpe_y0yW"
      },
      "execution_count": 21,
      "outputs": []
    },
    {
      "cell_type": "code",
      "source": [
        "# Train the model\n",
        "history_cnn_baseline = cnn_baseline.fit(X_train, y_train, validation_data=(X_val,y_val), epochs=NUM_EPOCHS, batch_size=BATCH_SIZE)"
      ],
      "metadata": {
        "id": "WiBR0QRdzuWm",
        "outputId": "43693eb0-eecb-4eaf-df88-6ccc61556923",
        "colab": {
          "base_uri": "https://localhost:8080/"
        }
      },
      "execution_count": 22,
      "outputs": [
        {
          "output_type": "stream",
          "name": "stdout",
          "text": [
            "Epoch 1/75\n",
            "\u001b[1m611/611\u001b[0m \u001b[32m━━━━━━━━━━━━━━━━━━━━\u001b[0m\u001b[37m\u001b[0m \u001b[1m8s\u001b[0m 7ms/step - binary_accuracy: 0.9370 - f1_score: 0.1265 - loss: 0.2070 - precision_1: 0.6243 - recall_1: 0.2123 - val_binary_accuracy: 0.9562 - val_f1_score: 0.1273 - val_loss: 0.1557 - val_precision_1: 0.8554 - val_recall_1: 0.4277\n",
            "Epoch 2/75\n",
            "\u001b[1m611/611\u001b[0m \u001b[32m━━━━━━━━━━━━━━━━━━━━\u001b[0m\u001b[37m\u001b[0m \u001b[1m1s\u001b[0m 2ms/step - binary_accuracy: 0.9604 - f1_score: 0.1253 - loss: 0.1522 - precision_1: 0.8441 - recall_1: 0.5001 - val_binary_accuracy: 0.9623 - val_f1_score: 0.1273 - val_loss: 0.1593 - val_precision_1: 0.8083 - val_recall_1: 0.5843\n",
            "Epoch 3/75\n",
            "\u001b[1m611/611\u001b[0m \u001b[32m━━━━━━━━━━━━━━━━━━━━\u001b[0m\u001b[37m\u001b[0m \u001b[1m1s\u001b[0m 2ms/step - binary_accuracy: 0.9644 - f1_score: 0.1228 - loss: 0.1393 - precision_1: 0.8583 - recall_1: 0.5468 - val_binary_accuracy: 0.9648 - val_f1_score: 0.1273 - val_loss: 0.1535 - val_precision_1: 0.8175 - val_recall_1: 0.6205\n",
            "Epoch 4/75\n",
            "\u001b[1m611/611\u001b[0m \u001b[32m━━━━━━━━━━━━━━━━━━━━\u001b[0m\u001b[37m\u001b[0m \u001b[1m1s\u001b[0m 2ms/step - binary_accuracy: 0.9645 - f1_score: 0.1268 - loss: 0.1317 - precision_1: 0.8614 - recall_1: 0.5677 - val_binary_accuracy: 0.9635 - val_f1_score: 0.1273 - val_loss: 0.1440 - val_precision_1: 0.8031 - val_recall_1: 0.6145\n",
            "Epoch 5/75\n",
            "\u001b[1m611/611\u001b[0m \u001b[32m━━━━━━━━━━━━━━━━━━━━\u001b[0m\u001b[37m\u001b[0m \u001b[1m1s\u001b[0m 2ms/step - binary_accuracy: 0.9633 - f1_score: 0.1251 - loss: 0.1207 - precision_1: 0.8060 - recall_1: 0.5911 - val_binary_accuracy: 0.9607 - val_f1_score: 0.1273 - val_loss: 0.1477 - val_precision_1: 0.7500 - val_recall_1: 0.6325\n",
            "Epoch 6/75\n",
            "\u001b[1m611/611\u001b[0m \u001b[32m━━━━━━━━━━━━━━━━━━━━\u001b[0m\u001b[37m\u001b[0m \u001b[1m1s\u001b[0m 2ms/step - binary_accuracy: 0.9676 - f1_score: 0.1153 - loss: 0.1074 - precision_1: 0.8117 - recall_1: 0.6109 - val_binary_accuracy: 0.9631 - val_f1_score: 0.1273 - val_loss: 0.1411 - val_precision_1: 0.7879 - val_recall_1: 0.6265\n",
            "Epoch 7/75\n",
            "\u001b[1m611/611\u001b[0m \u001b[32m━━━━━━━━━━━━━━━━━━━━\u001b[0m\u001b[37m\u001b[0m \u001b[1m1s\u001b[0m 2ms/step - binary_accuracy: 0.9679 - f1_score: 0.1260 - loss: 0.0998 - precision_1: 0.8487 - recall_1: 0.6372 - val_binary_accuracy: 0.9639 - val_f1_score: 0.1273 - val_loss: 0.1471 - val_precision_1: 0.7910 - val_recall_1: 0.6386\n",
            "Epoch 8/75\n",
            "\u001b[1m611/611\u001b[0m \u001b[32m━━━━━━━━━━━━━━━━━━━━\u001b[0m\u001b[37m\u001b[0m \u001b[1m1s\u001b[0m 2ms/step - binary_accuracy: 0.9681 - f1_score: 0.1255 - loss: 0.0923 - precision_1: 0.8124 - recall_1: 0.6818 - val_binary_accuracy: 0.9639 - val_f1_score: 0.1274 - val_loss: 0.1622 - val_precision_1: 0.8145 - val_recall_1: 0.6084\n",
            "Epoch 9/75\n",
            "\u001b[1m611/611\u001b[0m \u001b[32m━━━━━━━━━━━━━━━━━━━━\u001b[0m\u001b[37m\u001b[0m \u001b[1m1s\u001b[0m 2ms/step - binary_accuracy: 0.9711 - f1_score: 0.1223 - loss: 0.0813 - precision_1: 0.8398 - recall_1: 0.6896 - val_binary_accuracy: 0.9623 - val_f1_score: 0.1276 - val_loss: 0.1623 - val_precision_1: 0.7761 - val_recall_1: 0.6265\n",
            "Epoch 10/75\n",
            "\u001b[1m611/611\u001b[0m \u001b[32m━━━━━━━━━━━━━━━━━━━━\u001b[0m\u001b[37m\u001b[0m \u001b[1m1s\u001b[0m 2ms/step - binary_accuracy: 0.9745 - f1_score: 0.1193 - loss: 0.0721 - precision_1: 0.8380 - recall_1: 0.7416 - val_binary_accuracy: 0.9586 - val_f1_score: 0.1275 - val_loss: 0.1779 - val_precision_1: 0.7241 - val_recall_1: 0.6325\n",
            "Epoch 11/75\n",
            "\u001b[1m611/611\u001b[0m \u001b[32m━━━━━━━━━━━━━━━━━━━━\u001b[0m\u001b[37m\u001b[0m \u001b[1m1s\u001b[0m 2ms/step - binary_accuracy: 0.9789 - f1_score: 0.1214 - loss: 0.0620 - precision_1: 0.8697 - recall_1: 0.7904 - val_binary_accuracy: 0.9594 - val_f1_score: 0.1275 - val_loss: 0.1845 - val_precision_1: 0.7279 - val_recall_1: 0.6446\n",
            "Epoch 12/75\n",
            "\u001b[1m611/611\u001b[0m \u001b[32m━━━━━━━━━━━━━━━━━━━━\u001b[0m\u001b[37m\u001b[0m \u001b[1m1s\u001b[0m 2ms/step - binary_accuracy: 0.9797 - f1_score: 0.1257 - loss: 0.0560 - precision_1: 0.8667 - recall_1: 0.8199 - val_binary_accuracy: 0.9611 - val_f1_score: 0.1309 - val_loss: 0.2086 - val_precision_1: 0.7630 - val_recall_1: 0.6205\n",
            "Epoch 13/75\n",
            "\u001b[1m611/611\u001b[0m \u001b[32m━━━━━━━━━━━━━━━━━━━━\u001b[0m\u001b[37m\u001b[0m \u001b[1m1s\u001b[0m 2ms/step - binary_accuracy: 0.9833 - f1_score: 0.1267 - loss: 0.0470 - precision_1: 0.8744 - recall_1: 0.8711 - val_binary_accuracy: 0.9590 - val_f1_score: 0.1336 - val_loss: 0.2391 - val_precision_1: 0.7324 - val_recall_1: 0.6265\n",
            "Epoch 14/75\n",
            "\u001b[1m611/611\u001b[0m \u001b[32m━━━━━━━━━━━━━━━━━━━━\u001b[0m\u001b[37m\u001b[0m \u001b[1m1s\u001b[0m 2ms/step - binary_accuracy: 0.9812 - f1_score: 0.1342 - loss: 0.0513 - precision_1: 0.8612 - recall_1: 0.8628 - val_binary_accuracy: 0.9590 - val_f1_score: 0.1357 - val_loss: 0.2370 - val_precision_1: 0.7391 - val_recall_1: 0.6145\n",
            "Epoch 15/75\n",
            "\u001b[1m611/611\u001b[0m \u001b[32m━━━━━━━━━━━━━━━━━━━━\u001b[0m\u001b[37m\u001b[0m \u001b[1m1s\u001b[0m 2ms/step - binary_accuracy: 0.9874 - f1_score: 0.1303 - loss: 0.0394 - precision_1: 0.8968 - recall_1: 0.9106 - val_binary_accuracy: 0.9553 - val_f1_score: 0.1471 - val_loss: 0.2666 - val_precision_1: 0.6913 - val_recall_1: 0.6205\n",
            "Epoch 16/75\n",
            "\u001b[1m611/611\u001b[0m \u001b[32m━━━━━━━━━━━━━━━━━━━━\u001b[0m\u001b[37m\u001b[0m \u001b[1m1s\u001b[0m 2ms/step - binary_accuracy: 0.9874 - f1_score: 0.1386 - loss: 0.0381 - precision_1: 0.8856 - recall_1: 0.9223 - val_binary_accuracy: 0.9496 - val_f1_score: 0.1414 - val_loss: 0.2632 - val_precision_1: 0.6287 - val_recall_1: 0.6325\n",
            "Epoch 17/75\n",
            "\u001b[1m611/611\u001b[0m \u001b[32m━━━━━━━━━━━━━━━━━━━━\u001b[0m\u001b[37m\u001b[0m \u001b[1m1s\u001b[0m 2ms/step - binary_accuracy: 0.9859 - f1_score: 0.1432 - loss: 0.0389 - precision_1: 0.8771 - recall_1: 0.9123 - val_binary_accuracy: 0.9607 - val_f1_score: 0.1453 - val_loss: 0.2965 - val_precision_1: 0.7612 - val_recall_1: 0.6145\n",
            "Epoch 18/75\n",
            "\u001b[1m611/611\u001b[0m \u001b[32m━━━━━━━━━━━━━━━━━━━━\u001b[0m\u001b[37m\u001b[0m \u001b[1m1s\u001b[0m 2ms/step - binary_accuracy: 0.9902 - f1_score: 0.1516 - loss: 0.0334 - precision_1: 0.9001 - recall_1: 0.9575 - val_binary_accuracy: 0.9521 - val_f1_score: 0.1442 - val_loss: 0.2532 - val_precision_1: 0.6450 - val_recall_1: 0.6566\n",
            "Epoch 19/75\n",
            "\u001b[1m611/611\u001b[0m \u001b[32m━━━━━━━━━━━━━━━━━━━━\u001b[0m\u001b[37m\u001b[0m \u001b[1m1s\u001b[0m 2ms/step - binary_accuracy: 0.9918 - f1_score: 0.1650 - loss: 0.0292 - precision_1: 0.9204 - recall_1: 0.9638 - val_binary_accuracy: 0.9603 - val_f1_score: 0.1678 - val_loss: 0.3569 - val_precision_1: 0.7556 - val_recall_1: 0.6145\n",
            "Epoch 20/75\n",
            "\u001b[1m611/611\u001b[0m \u001b[32m━━━━━━━━━━━━━━━━━━━━\u001b[0m\u001b[37m\u001b[0m \u001b[1m1s\u001b[0m 2ms/step - binary_accuracy: 0.9895 - f1_score: 0.1688 - loss: 0.0333 - precision_1: 0.9027 - recall_1: 0.9437 - val_binary_accuracy: 0.9426 - val_f1_score: 0.1459 - val_loss: 0.2954 - val_precision_1: 0.5730 - val_recall_1: 0.6145\n",
            "Epoch 21/75\n",
            "\u001b[1m611/611\u001b[0m \u001b[32m━━━━━━━━━━━━━━━━━━━━\u001b[0m\u001b[37m\u001b[0m \u001b[1m1s\u001b[0m 2ms/step - binary_accuracy: 0.9896 - f1_score: 0.1637 - loss: 0.0327 - precision_1: 0.8902 - recall_1: 0.9503 - val_binary_accuracy: 0.9566 - val_f1_score: 0.1677 - val_loss: 0.3388 - val_precision_1: 0.7027 - val_recall_1: 0.6265\n",
            "Epoch 22/75\n",
            "\u001b[1m611/611\u001b[0m \u001b[32m━━━━━━━━━━━━━━━━━━━━\u001b[0m\u001b[37m\u001b[0m \u001b[1m1s\u001b[0m 2ms/step - binary_accuracy: 0.9907 - f1_score: 0.1756 - loss: 0.0301 - precision_1: 0.9072 - recall_1: 0.9537 - val_binary_accuracy: 0.9566 - val_f1_score: 0.1811 - val_loss: 0.3747 - val_precision_1: 0.7113 - val_recall_1: 0.6084\n",
            "Epoch 23/75\n",
            "\u001b[1m611/611\u001b[0m \u001b[32m━━━━━━━━━━━━━━━━━━━━\u001b[0m\u001b[37m\u001b[0m \u001b[1m1s\u001b[0m 2ms/step - binary_accuracy: 0.9913 - f1_score: 0.1903 - loss: 0.0284 - precision_1: 0.9129 - recall_1: 0.9618 - val_binary_accuracy: 0.9582 - val_f1_score: 0.1782 - val_loss: 0.4039 - val_precision_1: 0.7254 - val_recall_1: 0.6205\n",
            "Epoch 24/75\n",
            "\u001b[1m611/611\u001b[0m \u001b[32m━━━━━━━━━━━━━━━━━━━━\u001b[0m\u001b[37m\u001b[0m \u001b[1m1s\u001b[0m 2ms/step - binary_accuracy: 0.9889 - f1_score: 0.1933 - loss: 0.0324 - precision_1: 0.8928 - recall_1: 0.9410 - val_binary_accuracy: 0.9582 - val_f1_score: 0.1808 - val_loss: 0.3566 - val_precision_1: 0.7222 - val_recall_1: 0.6265\n",
            "Epoch 25/75\n",
            "\u001b[1m611/611\u001b[0m \u001b[32m━━━━━━━━━━━━━━━━━━━━\u001b[0m\u001b[37m\u001b[0m \u001b[1m1s\u001b[0m 2ms/step - binary_accuracy: 0.9934 - f1_score: 0.1897 - loss: 0.0229 - precision_1: 0.9335 - recall_1: 0.9673 - val_binary_accuracy: 0.9566 - val_f1_score: 0.1835 - val_loss: 0.3993 - val_precision_1: 0.7206 - val_recall_1: 0.5904\n",
            "Epoch 26/75\n",
            "\u001b[1m611/611\u001b[0m \u001b[32m━━━━━━━━━━━━━━━━━━━━\u001b[0m\u001b[37m\u001b[0m \u001b[1m1s\u001b[0m 2ms/step - binary_accuracy: 0.9951 - f1_score: 0.2071 - loss: 0.0199 - precision_1: 0.9408 - recall_1: 0.9888 - val_binary_accuracy: 0.9541 - val_f1_score: 0.1920 - val_loss: 0.3960 - val_precision_1: 0.6901 - val_recall_1: 0.5904\n",
            "Epoch 27/75\n",
            "\u001b[1m611/611\u001b[0m \u001b[32m━━━━━━━━━━━━━━━━━━━━\u001b[0m\u001b[37m\u001b[0m \u001b[1m1s\u001b[0m 2ms/step - binary_accuracy: 0.9952 - f1_score: 0.2101 - loss: 0.0185 - precision_1: 0.9407 - recall_1: 0.9870 - val_binary_accuracy: 0.9484 - val_f1_score: 0.1806 - val_loss: 0.3588 - val_precision_1: 0.6205 - val_recall_1: 0.6205\n",
            "Epoch 28/75\n",
            "\u001b[1m611/611\u001b[0m \u001b[32m━━━━━━━━━━━━━━━━━━━━\u001b[0m\u001b[37m\u001b[0m \u001b[1m1s\u001b[0m 2ms/step - binary_accuracy: 0.9899 - f1_score: 0.2096 - loss: 0.0303 - precision_1: 0.9164 - recall_1: 0.9329 - val_binary_accuracy: 0.9476 - val_f1_score: 0.1718 - val_loss: 0.3732 - val_precision_1: 0.6131 - val_recall_1: 0.6205\n",
            "Epoch 29/75\n",
            "\u001b[1m611/611\u001b[0m \u001b[32m━━━━━━━━━━━━━━━━━━━━\u001b[0m\u001b[37m\u001b[0m \u001b[1m1s\u001b[0m 2ms/step - binary_accuracy: 0.9914 - f1_score: 0.2019 - loss: 0.0271 - precision_1: 0.9172 - recall_1: 0.9543 - val_binary_accuracy: 0.9578 - val_f1_score: 0.1978 - val_loss: 0.4486 - val_precision_1: 0.7692 - val_recall_1: 0.5422\n",
            "Epoch 30/75\n",
            "\u001b[1m611/611\u001b[0m \u001b[32m━━━━━━━━━━━━━━━━━━━━\u001b[0m\u001b[37m\u001b[0m \u001b[1m1s\u001b[0m 2ms/step - binary_accuracy: 0.9928 - f1_score: 0.2092 - loss: 0.0258 - precision_1: 0.9306 - recall_1: 0.9636 - val_binary_accuracy: 0.9590 - val_f1_score: 0.2071 - val_loss: 0.4489 - val_precision_1: 0.7391 - val_recall_1: 0.6145\n",
            "Epoch 31/75\n",
            "\u001b[1m611/611\u001b[0m \u001b[32m━━━━━━━━━━━━━━━━━━━━\u001b[0m\u001b[37m\u001b[0m \u001b[1m1s\u001b[0m 2ms/step - binary_accuracy: 0.9937 - f1_score: 0.2260 - loss: 0.0218 - precision_1: 0.9349 - recall_1: 0.9682 - val_binary_accuracy: 0.9525 - val_f1_score: 0.2040 - val_loss: 0.4371 - val_precision_1: 0.6603 - val_recall_1: 0.6205\n",
            "Epoch 32/75\n",
            "\u001b[1m611/611\u001b[0m \u001b[32m━━━━━━━━━━━━━━━━━━━━\u001b[0m\u001b[37m\u001b[0m \u001b[1m1s\u001b[0m 2ms/step - binary_accuracy: 0.9949 - f1_score: 0.2349 - loss: 0.0196 - precision_1: 0.9395 - recall_1: 0.9875 - val_binary_accuracy: 0.9574 - val_f1_score: 0.2200 - val_loss: 0.4738 - val_precision_1: 0.7500 - val_recall_1: 0.5602\n",
            "Epoch 33/75\n",
            "\u001b[1m611/611\u001b[0m \u001b[32m━━━━━━━━━━━━━━━━━━━━\u001b[0m\u001b[37m\u001b[0m \u001b[1m1s\u001b[0m 2ms/step - binary_accuracy: 0.9932 - f1_score: 0.2244 - loss: 0.0221 - precision_1: 0.9301 - recall_1: 0.9665 - val_binary_accuracy: 0.9476 - val_f1_score: 0.1888 - val_loss: 0.4461 - val_precision_1: 0.6187 - val_recall_1: 0.5964\n",
            "Epoch 34/75\n",
            "\u001b[1m611/611\u001b[0m \u001b[32m━━━━━━━━━━━━━━━━━━━━\u001b[0m\u001b[37m\u001b[0m \u001b[1m1s\u001b[0m 2ms/step - binary_accuracy: 0.9943 - f1_score: 0.2348 - loss: 0.0210 - precision_1: 0.9441 - recall_1: 0.9699 - val_binary_accuracy: 0.9574 - val_f1_score: 0.2252 - val_loss: 0.5126 - val_precision_1: 0.7246 - val_recall_1: 0.6024\n",
            "Epoch 35/75\n",
            "\u001b[1m611/611\u001b[0m \u001b[32m━━━━━━━━━━━━━━━━━━━━\u001b[0m\u001b[37m\u001b[0m \u001b[1m1s\u001b[0m 2ms/step - binary_accuracy: 0.9937 - f1_score: 0.2315 - loss: 0.0242 - precision_1: 0.9458 - recall_1: 0.9575 - val_binary_accuracy: 0.9558 - val_f1_score: 0.2087 - val_loss: 0.4694 - val_precision_1: 0.7042 - val_recall_1: 0.6024\n",
            "Epoch 36/75\n",
            "\u001b[1m611/611\u001b[0m \u001b[32m━━━━━━━━━━━━━━━━━━━━\u001b[0m\u001b[37m\u001b[0m \u001b[1m1s\u001b[0m 2ms/step - binary_accuracy: 0.9959 - f1_score: 0.2565 - loss: 0.0151 - precision_1: 0.9598 - recall_1: 0.9797 - val_binary_accuracy: 0.9582 - val_f1_score: 0.2264 - val_loss: 0.4820 - val_precision_1: 0.7286 - val_recall_1: 0.6145\n",
            "Epoch 37/75\n",
            "\u001b[1m611/611\u001b[0m \u001b[32m━━━━━━━━━━━━━━━━━━━━\u001b[0m\u001b[37m\u001b[0m \u001b[1m1s\u001b[0m 2ms/step - binary_accuracy: 0.9960 - f1_score: 0.2774 - loss: 0.0145 - precision_1: 0.9546 - recall_1: 0.9870 - val_binary_accuracy: 0.9566 - val_f1_score: 0.2393 - val_loss: 0.5179 - val_precision_1: 0.7143 - val_recall_1: 0.6024\n",
            "Epoch 38/75\n",
            "\u001b[1m611/611\u001b[0m \u001b[32m━━━━━━━━━━━━━━━━━━━━\u001b[0m\u001b[37m\u001b[0m \u001b[1m1s\u001b[0m 2ms/step - binary_accuracy: 0.9958 - f1_score: 0.2886 - loss: 0.0148 - precision_1: 0.9580 - recall_1: 0.9824 - val_binary_accuracy: 0.9549 - val_f1_score: 0.2431 - val_loss: 0.5468 - val_precision_1: 0.6972 - val_recall_1: 0.5964\n",
            "Epoch 39/75\n",
            "\u001b[1m611/611\u001b[0m \u001b[32m━━━━━━━━━━━━━━━━━━━━\u001b[0m\u001b[37m\u001b[0m \u001b[1m1s\u001b[0m 2ms/step - binary_accuracy: 0.9942 - f1_score: 0.2644 - loss: 0.0188 - precision_1: 0.9465 - recall_1: 0.9668 - val_binary_accuracy: 0.9590 - val_f1_score: 0.2410 - val_loss: 0.5186 - val_precision_1: 0.7705 - val_recall_1: 0.5663\n",
            "Epoch 40/75\n",
            "\u001b[1m611/611\u001b[0m \u001b[32m━━━━━━━━━━━━━━━━━━━━\u001b[0m\u001b[37m\u001b[0m \u001b[1m1s\u001b[0m 2ms/step - binary_accuracy: 0.9948 - f1_score: 0.2494 - loss: 0.0177 - precision_1: 0.9532 - recall_1: 0.9674 - val_binary_accuracy: 0.9512 - val_f1_score: 0.1976 - val_loss: 0.4576 - val_precision_1: 0.6599 - val_recall_1: 0.5843\n",
            "Epoch 41/75\n",
            "\u001b[1m611/611\u001b[0m \u001b[32m━━━━━━━━━━━━━━━━━━━━\u001b[0m\u001b[37m\u001b[0m \u001b[1m1s\u001b[0m 2ms/step - binary_accuracy: 0.9961 - f1_score: 0.2679 - loss: 0.0120 - precision_1: 0.9651 - recall_1: 0.9741 - val_binary_accuracy: 0.9599 - val_f1_score: 0.2351 - val_loss: 0.4913 - val_precision_1: 0.7576 - val_recall_1: 0.6024\n",
            "Epoch 42/75\n",
            "\u001b[1m611/611\u001b[0m \u001b[32m━━━━━━━━━━━━━━━━━━━━\u001b[0m\u001b[37m\u001b[0m \u001b[1m1s\u001b[0m 2ms/step - binary_accuracy: 0.9982 - f1_score: 0.2739 - loss: 0.0081 - precision_1: 0.9810 - recall_1: 0.9908 - val_binary_accuracy: 0.9451 - val_f1_score: 0.2134 - val_loss: 0.4923 - val_precision_1: 0.6067 - val_recall_1: 0.5482\n",
            "Epoch 43/75\n",
            "\u001b[1m611/611\u001b[0m \u001b[32m━━━━━━━━━━━━━━━━━━━━\u001b[0m\u001b[37m\u001b[0m \u001b[1m1s\u001b[0m 2ms/step - binary_accuracy: 0.9965 - f1_score: 0.2781 - loss: 0.0130 - precision_1: 0.9706 - recall_1: 0.9753 - val_binary_accuracy: 0.9533 - val_f1_score: 0.2396 - val_loss: 0.5334 - val_precision_1: 0.6781 - val_recall_1: 0.5964\n",
            "Epoch 44/75\n",
            "\u001b[1m611/611\u001b[0m \u001b[32m━━━━━━━━━━━━━━━━━━━━\u001b[0m\u001b[37m\u001b[0m \u001b[1m1s\u001b[0m 2ms/step - binary_accuracy: 0.9972 - f1_score: 0.2727 - loss: 0.0103 - precision_1: 0.9773 - recall_1: 0.9791 - val_binary_accuracy: 0.9537 - val_f1_score: 0.2326 - val_loss: 0.5256 - val_precision_1: 0.6779 - val_recall_1: 0.6084\n",
            "Epoch 45/75\n",
            "\u001b[1m611/611\u001b[0m \u001b[32m━━━━━━━━━━━━━━━━━━━━\u001b[0m\u001b[37m\u001b[0m \u001b[1m1s\u001b[0m 2ms/step - binary_accuracy: 0.9966 - f1_score: 0.2609 - loss: 0.0119 - precision_1: 0.9658 - recall_1: 0.9824 - val_binary_accuracy: 0.9508 - val_f1_score: 0.2249 - val_loss: 0.5528 - val_precision_1: 0.6554 - val_recall_1: 0.5843\n",
            "Epoch 46/75\n",
            "\u001b[1m611/611\u001b[0m \u001b[32m━━━━━━━━━━━━━━━━━━━━\u001b[0m\u001b[37m\u001b[0m \u001b[1m1s\u001b[0m 2ms/step - binary_accuracy: 0.9984 - f1_score: 0.2887 - loss: 0.0076 - precision_1: 0.9842 - recall_1: 0.9914 - val_binary_accuracy: 0.9541 - val_f1_score: 0.2566 - val_loss: 0.5707 - val_precision_1: 0.6849 - val_recall_1: 0.6024\n",
            "Epoch 47/75\n",
            "\u001b[1m611/611\u001b[0m \u001b[32m━━━━━━━━━━━━━━━━━━━━\u001b[0m\u001b[37m\u001b[0m \u001b[1m1s\u001b[0m 2ms/step - binary_accuracy: 0.9985 - f1_score: 0.3109 - loss: 0.0061 - precision_1: 0.9811 - recall_1: 0.9973 - val_binary_accuracy: 0.9533 - val_f1_score: 0.2504 - val_loss: 0.5568 - val_precision_1: 0.6831 - val_recall_1: 0.5843\n",
            "Epoch 48/75\n",
            "\u001b[1m611/611\u001b[0m \u001b[32m━━━━━━━━━━━━━━━━━━━━\u001b[0m\u001b[37m\u001b[0m \u001b[1m1s\u001b[0m 2ms/step - binary_accuracy: 0.9937 - f1_score: 0.2661 - loss: 0.0216 - precision_1: 0.9527 - recall_1: 0.9477 - val_binary_accuracy: 0.9500 - val_f1_score: 0.2228 - val_loss: 0.5803 - val_precision_1: 0.6467 - val_recall_1: 0.5843\n",
            "Epoch 49/75\n",
            "\u001b[1m611/611\u001b[0m \u001b[32m━━━━━━━━━━━━━━━━━━━━\u001b[0m\u001b[37m\u001b[0m \u001b[1m1s\u001b[0m 2ms/step - binary_accuracy: 0.9962 - f1_score: 0.2681 - loss: 0.0128 - precision_1: 0.9655 - recall_1: 0.9774 - val_binary_accuracy: 0.9533 - val_f1_score: 0.2205 - val_loss: 0.5294 - val_precision_1: 0.6757 - val_recall_1: 0.6024\n",
            "Epoch 50/75\n",
            "\u001b[1m611/611\u001b[0m \u001b[32m━━━━━━━━━━━━━━━━━━━━\u001b[0m\u001b[37m\u001b[0m \u001b[1m1s\u001b[0m 2ms/step - binary_accuracy: 0.9991 - f1_score: 0.2859 - loss: 0.0045 - precision_1: 0.9935 - recall_1: 0.9932 - val_binary_accuracy: 0.9541 - val_f1_score: 0.2347 - val_loss: 0.5551 - val_precision_1: 0.6800 - val_recall_1: 0.6145\n",
            "Epoch 51/75\n",
            "\u001b[1m611/611\u001b[0m \u001b[32m━━━━━━━━━━━━━━━━━━━━\u001b[0m\u001b[37m\u001b[0m \u001b[1m1s\u001b[0m 2ms/step - binary_accuracy: 0.9987 - f1_score: 0.3057 - loss: 0.0057 - precision_1: 0.9850 - recall_1: 0.9968 - val_binary_accuracy: 0.9578 - val_f1_score: 0.2932 - val_loss: 0.6460 - val_precision_1: 0.7603 - val_recall_1: 0.5542\n",
            "Epoch 52/75\n",
            "\u001b[1m611/611\u001b[0m \u001b[32m━━━━━━━━━━━━━━━━━━━━\u001b[0m\u001b[37m\u001b[0m \u001b[1m1s\u001b[0m 2ms/step - binary_accuracy: 0.9986 - f1_score: 0.3472 - loss: 0.0062 - precision_1: 0.9850 - recall_1: 0.9943 - val_binary_accuracy: 0.9517 - val_f1_score: 0.2597 - val_loss: 0.6792 - val_precision_1: 0.6600 - val_recall_1: 0.5964\n",
            "Epoch 53/75\n",
            "\u001b[1m611/611\u001b[0m \u001b[32m━━━━━━━━━━━━━━━━━━━━\u001b[0m\u001b[37m\u001b[0m \u001b[1m1s\u001b[0m 2ms/step - binary_accuracy: 0.9917 - f1_score: 0.2972 - loss: 0.0289 - precision_1: 0.9346 - recall_1: 0.9362 - val_binary_accuracy: 0.9586 - val_f1_score: 0.2854 - val_loss: 0.6947 - val_precision_1: 0.7338 - val_recall_1: 0.6145\n",
            "Epoch 54/75\n",
            "\u001b[1m611/611\u001b[0m \u001b[32m━━━━━━━━━━━━━━━━━━━━\u001b[0m\u001b[37m\u001b[0m \u001b[1m1s\u001b[0m 2ms/step - binary_accuracy: 0.9975 - f1_score: 0.3191 - loss: 0.0096 - precision_1: 0.9798 - recall_1: 0.9838 - val_binary_accuracy: 0.9558 - val_f1_score: 0.2405 - val_loss: 0.6209 - val_precision_1: 0.7101 - val_recall_1: 0.5904\n",
            "Epoch 55/75\n",
            "\u001b[1m611/611\u001b[0m \u001b[32m━━━━━━━━━━━━━━━━━━━━\u001b[0m\u001b[37m\u001b[0m \u001b[1m1s\u001b[0m 2ms/step - binary_accuracy: 0.9984 - f1_score: 0.3182 - loss: 0.0063 - precision_1: 0.9842 - recall_1: 0.9909 - val_binary_accuracy: 0.9566 - val_f1_score: 0.2839 - val_loss: 0.6729 - val_precision_1: 0.7239 - val_recall_1: 0.5843\n",
            "Epoch 56/75\n",
            "\u001b[1m611/611\u001b[0m \u001b[32m━━━━━━━━━━━━━━━━━━━━\u001b[0m\u001b[37m\u001b[0m \u001b[1m1s\u001b[0m 2ms/step - binary_accuracy: 0.9986 - f1_score: 0.3511 - loss: 0.0049 - precision_1: 0.9836 - recall_1: 0.9920 - val_binary_accuracy: 0.9586 - val_f1_score: 0.2878 - val_loss: 0.6807 - val_precision_1: 0.7372 - val_recall_1: 0.6084\n",
            "Epoch 57/75\n",
            "\u001b[1m611/611\u001b[0m \u001b[32m━━━━━━━━━━━━━━━━━━━━\u001b[0m\u001b[37m\u001b[0m \u001b[1m1s\u001b[0m 2ms/step - binary_accuracy: 0.9981 - f1_score: 0.3548 - loss: 0.0069 - precision_1: 0.9812 - recall_1: 0.9918 - val_binary_accuracy: 0.9635 - val_f1_score: 0.3299 - val_loss: 0.7848 - val_precision_1: 0.8291 - val_recall_1: 0.5843\n",
            "Epoch 58/75\n",
            "\u001b[1m611/611\u001b[0m \u001b[32m━━━━━━━━━━━━━━━━━━━━\u001b[0m\u001b[37m\u001b[0m \u001b[1m1s\u001b[0m 2ms/step - binary_accuracy: 0.9940 - f1_score: 0.3139 - loss: 0.0216 - precision_1: 0.9551 - recall_1: 0.9501 - val_binary_accuracy: 0.9377 - val_f1_score: 0.2043 - val_loss: 0.5125 - val_precision_1: 0.5365 - val_recall_1: 0.6205\n",
            "Epoch 59/75\n",
            "\u001b[1m611/611\u001b[0m \u001b[32m━━━━━━━━━━━━━━━━━━━━\u001b[0m\u001b[37m\u001b[0m \u001b[1m1s\u001b[0m 2ms/step - binary_accuracy: 0.9968 - f1_score: 0.2971 - loss: 0.0110 - precision_1: 0.9760 - recall_1: 0.9746 - val_binary_accuracy: 0.9517 - val_f1_score: 0.2376 - val_loss: 0.5877 - val_precision_1: 0.6538 - val_recall_1: 0.6145\n",
            "Epoch 60/75\n",
            "\u001b[1m611/611\u001b[0m \u001b[32m━━━━━━━━━━━━━━━━━━━━\u001b[0m\u001b[37m\u001b[0m \u001b[1m1s\u001b[0m 2ms/step - binary_accuracy: 0.9985 - f1_score: 0.3087 - loss: 0.0066 - precision_1: 0.9859 - recall_1: 0.9905 - val_binary_accuracy: 0.9533 - val_f1_score: 0.2667 - val_loss: 0.6423 - val_precision_1: 0.6831 - val_recall_1: 0.5843\n",
            "Epoch 61/75\n",
            "\u001b[1m611/611\u001b[0m \u001b[32m━━━━━━━━━━━━━━━━━━━━\u001b[0m\u001b[37m\u001b[0m \u001b[1m1s\u001b[0m 2ms/step - binary_accuracy: 0.9986 - f1_score: 0.3262 - loss: 0.0044 - precision_1: 0.9870 - recall_1: 0.9917 - val_binary_accuracy: 0.9590 - val_f1_score: 0.2892 - val_loss: 0.6884 - val_precision_1: 0.7500 - val_recall_1: 0.5964\n",
            "Epoch 62/75\n",
            "\u001b[1m611/611\u001b[0m \u001b[32m━━━━━━━━━━━━━━━━━━━━\u001b[0m\u001b[37m\u001b[0m \u001b[1m1s\u001b[0m 2ms/step - binary_accuracy: 0.9993 - f1_score: 0.3473 - loss: 0.0034 - precision_1: 0.9877 - recall_1: 0.9944 - val_binary_accuracy: 0.9500 - val_f1_score: 0.2920 - val_loss: 0.7604 - val_precision_1: 0.6833 - val_recall_1: 0.4940\n",
            "Epoch 63/75\n",
            "\u001b[1m611/611\u001b[0m \u001b[32m━━━━━━━━━━━━━━━━━━━━\u001b[0m\u001b[37m\u001b[0m \u001b[1m1s\u001b[0m 2ms/step - binary_accuracy: 0.9945 - f1_score: 0.3343 - loss: 0.0179 - precision_1: 0.9564 - recall_1: 0.9582 - val_binary_accuracy: 0.9492 - val_f1_score: 0.2670 - val_loss: 0.6667 - val_precision_1: 0.6296 - val_recall_1: 0.6145\n",
            "Epoch 64/75\n",
            "\u001b[1m611/611\u001b[0m \u001b[32m━━━━━━━━━━━━━━━━━━━━\u001b[0m\u001b[37m\u001b[0m \u001b[1m1s\u001b[0m 2ms/step - binary_accuracy: 0.9974 - f1_score: 0.3343 - loss: 0.0098 - precision_1: 0.9789 - recall_1: 0.9798 - val_binary_accuracy: 0.9537 - val_f1_score: 0.2860 - val_loss: 0.6472 - val_precision_1: 0.6732 - val_recall_1: 0.6205\n",
            "Epoch 65/75\n",
            "\u001b[1m611/611\u001b[0m \u001b[32m━━━━━━━━━━━━━━━━━━━━\u001b[0m\u001b[37m\u001b[0m \u001b[1m1s\u001b[0m 2ms/step - binary_accuracy: 0.9967 - f1_score: 0.3145 - loss: 0.0112 - precision_1: 0.9750 - recall_1: 0.9698 - val_binary_accuracy: 0.9512 - val_f1_score: 0.2555 - val_loss: 0.6088 - val_precision_1: 0.6536 - val_recall_1: 0.6024\n",
            "Epoch 66/75\n",
            "\u001b[1m611/611\u001b[0m \u001b[32m━━━━━━━━━━━━━━━━━━━━\u001b[0m\u001b[37m\u001b[0m \u001b[1m1s\u001b[0m 2ms/step - binary_accuracy: 0.9990 - f1_score: 0.3243 - loss: 0.0041 - precision_1: 0.9900 - recall_1: 0.9944 - val_binary_accuracy: 0.9431 - val_f1_score: 0.2304 - val_loss: 0.5829 - val_precision_1: 0.5808 - val_recall_1: 0.5843\n",
            "Epoch 67/75\n",
            "\u001b[1m611/611\u001b[0m \u001b[32m━━━━━━━━━━━━━━━━━━━━\u001b[0m\u001b[37m\u001b[0m \u001b[1m1s\u001b[0m 2ms/step - binary_accuracy: 0.9971 - f1_score: 0.3408 - loss: 0.0099 - precision_1: 0.9752 - recall_1: 0.9766 - val_binary_accuracy: 0.9537 - val_f1_score: 0.2681 - val_loss: 0.6707 - val_precision_1: 0.6879 - val_recall_1: 0.5843\n",
            "Epoch 68/75\n",
            "\u001b[1m611/611\u001b[0m \u001b[32m━━━━━━━━━━━━━━━━━━━━\u001b[0m\u001b[37m\u001b[0m \u001b[1m1s\u001b[0m 2ms/step - binary_accuracy: 0.9996 - f1_score: 0.3481 - loss: 0.0020 - precision_1: 0.9968 - recall_1: 0.9975 - val_binary_accuracy: 0.9500 - val_f1_score: 0.2707 - val_loss: 0.6646 - val_precision_1: 0.6375 - val_recall_1: 0.6145\n",
            "Epoch 69/75\n",
            "\u001b[1m611/611\u001b[0m \u001b[32m━━━━━━━━━━━━━━━━━━━━\u001b[0m\u001b[37m\u001b[0m \u001b[1m1s\u001b[0m 2ms/step - binary_accuracy: 0.9981 - f1_score: 0.3689 - loss: 0.0075 - precision_1: 0.9836 - recall_1: 0.9880 - val_binary_accuracy: 0.9553 - val_f1_score: 0.3016 - val_loss: 0.7931 - val_precision_1: 0.7143 - val_recall_1: 0.5723\n",
            "Epoch 70/75\n",
            "\u001b[1m611/611\u001b[0m \u001b[32m━━━━━━━━━━━━━━━━━━━━\u001b[0m\u001b[37m\u001b[0m \u001b[1m1s\u001b[0m 2ms/step - binary_accuracy: 0.9955 - f1_score: 0.3478 - loss: 0.0162 - precision_1: 0.9621 - recall_1: 0.9696 - val_binary_accuracy: 0.9553 - val_f1_score: 0.2824 - val_loss: 0.6663 - val_precision_1: 0.7176 - val_recall_1: 0.5663\n",
            "Epoch 71/75\n",
            "\u001b[1m611/611\u001b[0m \u001b[32m━━━━━━━━━━━━━━━━━━━━\u001b[0m\u001b[37m\u001b[0m \u001b[1m1s\u001b[0m 2ms/step - binary_accuracy: 0.9965 - f1_score: 0.3619 - loss: 0.0154 - precision_1: 0.9761 - recall_1: 0.9716 - val_binary_accuracy: 0.9533 - val_f1_score: 0.2830 - val_loss: 0.7103 - val_precision_1: 0.6781 - val_recall_1: 0.5964\n",
            "Epoch 72/75\n",
            "\u001b[1m611/611\u001b[0m \u001b[32m━━━━━━━━━━━━━━━━━━━━\u001b[0m\u001b[37m\u001b[0m \u001b[1m1s\u001b[0m 2ms/step - binary_accuracy: 0.9981 - f1_score: 0.3654 - loss: 0.0074 - precision_1: 0.9809 - recall_1: 0.9913 - val_binary_accuracy: 0.9533 - val_f1_score: 0.2988 - val_loss: 0.7542 - val_precision_1: 0.6806 - val_recall_1: 0.5904\n",
            "Epoch 73/75\n",
            "\u001b[1m611/611\u001b[0m \u001b[32m━━━━━━━━━━━━━━━━━━━━\u001b[0m\u001b[37m\u001b[0m \u001b[1m1s\u001b[0m 2ms/step - binary_accuracy: 0.9998 - f1_score: 0.3909 - loss: 0.0014 - precision_1: 0.9981 - recall_1: 0.9988 - val_binary_accuracy: 0.9537 - val_f1_score: 0.3049 - val_loss: 0.7545 - val_precision_1: 0.6934 - val_recall_1: 0.5723\n",
            "Epoch 74/75\n",
            "\u001b[1m611/611\u001b[0m \u001b[32m━━━━━━━━━━━━━━━━━━━━\u001b[0m\u001b[37m\u001b[0m \u001b[1m1s\u001b[0m 2ms/step - binary_accuracy: 0.9997 - f1_score: 0.4066 - loss: 0.0017 - precision_1: 0.9960 - recall_1: 1.0000 - val_binary_accuracy: 0.9533 - val_f1_score: 0.3066 - val_loss: 0.7613 - val_precision_1: 0.6831 - val_recall_1: 0.5843\n",
            "Epoch 75/75\n",
            "\u001b[1m611/611\u001b[0m \u001b[32m━━━━━━━━━━━━━━━━━━━━\u001b[0m\u001b[37m\u001b[0m \u001b[1m1s\u001b[0m 2ms/step - binary_accuracy: 0.9999 - f1_score: 0.3972 - loss: 7.2818e-04 - precision_1: 0.9982 - recall_1: 1.0000 - val_binary_accuracy: 0.9545 - val_f1_score: 0.3091 - val_loss: 0.7716 - val_precision_1: 0.7007 - val_recall_1: 0.5783\n"
          ]
        }
      ]
    },
    {
      "cell_type": "code",
      "source": [
        "#plot loss\n",
        "plt.plot(history_cnn_baseline.history['loss'])\n",
        "plt.plot(history_cnn_baseline.history['val_loss'])\n",
        "plt.title('Baseline CNN - Train/Val Loss')\n",
        "plt.ylabel('loss')\n",
        "plt.xlabel('epoch')\n",
        "plt.legend(['Tain', 'Val'])\n",
        "plt.show()"
      ],
      "metadata": {
        "id": "3dxGDnSS14qf",
        "outputId": "13d67b6f-b243-4857-9102-e9596fdfb2ef",
        "colab": {
          "base_uri": "https://localhost:8080/",
          "height": 472
        }
      },
      "execution_count": 23,
      "outputs": [
        {
          "output_type": "display_data",
          "data": {
            "text/plain": [
              "<Figure size 640x480 with 1 Axes>"
            ],
            "image/png": "[encoded data removed]"
          },
          "metadata": {}
        }
      ]
    },
    {
      "cell_type": "code",
      "source": [],
      "metadata": {
        "id": "JoG5OQPD3byS"
      },
      "execution_count": null,
      "outputs": []
    }
  ],
  "metadata": {
    "language_info": {
      "name": "python"
    },
    "colab": {
      "provenance": [],
      "machine_shape": "hm",
      "gpuType": "T4"
    },
    "accelerator": "GPU",
    "kernelspec": {
      "name": "python3",
      "display_name": "Python 3"
    }
  },
  "nbformat": 4,
  "nbformat_minor": 0
}